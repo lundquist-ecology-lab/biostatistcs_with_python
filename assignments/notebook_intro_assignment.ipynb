{
 "cells": [
  {
   "cell_type": "markdown",
   "id": "94e8b832-610a-4570-b9a8-aadede6bc751",
   "metadata": {},
   "source": [
    "# Getting Started with Python Notebooks (Due before class on 9/21)"
   ]
  },
  {
   "cell_type": "markdown",
   "id": "0c3292b7-1a9f-4b61-9eec-33d590f2d223",
   "metadata": {},
   "source": [
    "## Introduction\n",
    "\n",
    "One of the hardest things about using a new programming language is getting started. This file will help you get familiarized with Jupyter Notebooks, the files that we will be working in throughout the semester.\n",
    "\n",
    "**To run this file, press the Play button on the top bar, or hit ctl + Enter**\n",
    "\n",
    "**To edit this block (or any block), double click on it.**"
   ]
  },
  {
   "cell_type": "markdown",
   "id": "44bebe5c-65d8-4ab0-a123-0cced1d944c5",
   "metadata": {},
   "source": [
    "## Markdown blocks\n",
    "Markdown blocks like this one and the one above are used for writing in English (or any other language). We can set the block type using the drop down menu above. Our choices are Markdown (this one), Code (any Python code), or Raw (which we will not be using).\n",
    "\n",
    "Link to more information on Markdown: [Click here](https://www.markdowntutorial.com/)"
   ]
  },
  {
   "cell_type": "markdown",
   "id": "35c245df-e0f1-4493-a257-32395b5bb742",
   "metadata": {},
   "source": [
    "## Python (aka Code) blocks\n",
    "The block below this one is a **Python** block. We write our code in these blocks and we can also execute (run) our code from those blocks. For those blocks, choose \"Code\" from the drop down menu."
   ]
  },
  {
   "cell_type": "code",
   "execution_count": 3,
   "id": "6c48ae58-f1fe-486a-9139-12987da81bb4",
   "metadata": {},
   "outputs": [
    {
     "name": "stdout",
     "output_type": "stream",
     "text": [
      "The answer is 2\n"
     ]
    }
   ],
   "source": [
    "# This is called a comment. Any line that starts with a \"#\" is not run\n",
    "# We can use comments to add text explanations to our code or \n",
    "# Comment out non-working code\n",
    "\n",
    "# Simple math\n",
    "x = 1 + 1\n",
    "# Print the answer\n",
    "print(\"The answer is\", x)"
   ]
  },
  {
   "cell_type": "markdown",
   "id": "339064db-efe4-4dc2-b0b4-3f0b83abd058",
   "metadata": {},
   "source": [
    "## Create new cell\n",
    "To create a new block, you simply press the \"Insert Cell\" button on the right side of the cell you are working in. Note, you need to have selected the cell before you can see the option to create a new cell."
   ]
  },
  {
   "cell_type": "markdown",
   "id": "a8063fb0-564b-4962-94bd-80250b4e2a9d",
   "metadata": {},
   "source": [
    "## Saving and downloading notebooks\n",
    "Once you finish with your Jupyter Notebook, you can save it as a .pynb file by either clicking on the save icon or File > Save Notebook or pressing ctl + S. You can then download (File > Download) the file and upload it to Brightspace."
   ]
  },
  {
   "cell_type": "markdown",
   "id": "ade43173-23fc-41f4-808d-70091908534e",
   "metadata": {},
   "source": [
    "## Assignment\n",
    "**Your assignment, due before class on 9/21**: Below, create a Markdown block that reads \"Hello World\" and then below that, a Python code block and prints \"Hello World\" and submit this completed notebook file to Brightspace."
   ]
  }
 ],
 "metadata": {
  "kernelspec": {
   "display_name": "Python 3 (ipykernel)",
   "language": "python",
   "name": "python3"
  },
  "language_info": {
   "codemirror_mode": {
    "name": "ipython",
    "version": 3
   },
   "file_extension": ".py",
   "mimetype": "text/x-python",
   "name": "python",
   "nbconvert_exporter": "python",
   "pygments_lexer": "ipython3",
   "version": "3.10.6"
  }
 },
 "nbformat": 4,
 "nbformat_minor": 5
}
