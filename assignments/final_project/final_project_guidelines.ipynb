{
 "cells": [
  {
   "cell_type": "markdown",
   "metadata": {},
   "source": [
    "### Final Project: Conservation of Coral Reefs\n",
    "\n",
    "Throughout the session, you have been developing a portfolio of statistical techniques and the Python code to run those techniques. \n",
    "\n",
    "Specifically you now should be able to:\n",
    "\n",
    "Import and manipulate data\n",
    "Perform summary statistics\n",
    "Produce diagnostic graphics (e.g., histograms) and illustrative graphics (e.g., bar plots)\n",
    "Stats for proportions (binomial and chi^2)\n",
    "Stats for one or two samples of continuous variables (t-tests, non-parametric tests)\n",
    "Stats for more than two samples of continuous variables (ANOVA, Kruskal-Wallis)\n",
    "Predicting the future (correlation and regression)\n",
    "\n",
    "Now is your chance to put those skills to use using real-world data.\n",
    "\n",
    "Data context:\n",
    "\n",
    "This is data from an ecological assessment of Alacranes Reef and Bajos del Norte Reef in Mexico.\n",
    "\n",
    "![map.png](map.png)\n",
    "\n",
    "Source of data: Favoretto et al (2020)\n",
    "\n",
    "[Link to paper](https://www.frontiersin.org/articles/10.3389/fmars.2020.583056/full)\n",
    "\n",
    "Column names and information:\n",
    "\n",
    "- label: ALG: algae, INV: invertebrate, PEC: fish\n",
    "- region: Alacranes or Bajos del Norte\n",
    "- island: location of specific reef\n",
    "- side: side of island (Leeward, Windward, Bajos)\n",
    "- reef: name of specific reef\n",
    "- protection_status: type of conservation protection (NTZ: No-take Zone, MPA: Marine protected area, OA: Open Area)\n",
    "- phylum: taxonomic phylum\n",
    "- class: taxonomic class\n",
    "- functional_group: feeding/life form grouping (may include different species and different classes)\n",
    "- species: species\n",
    "- quantity: Number of individuals collected\n",
    "\n",
    "Your task:\n",
    "\n",
    "Use the data included in \"invertebrate_algae_and_fish_data.csv\" to test some hypothesis related to the conservation of biodiversity in coral reefs. I have provided a link to the original paper for background, but please do not copy exactly what they did. Provide these sections in your final report utilizing both Markdown and Python:\n",
    "\n",
    "- Introduction to data and study system referencing the Favoretto et al. paper. (Markdown)\n",
    "- Exploratory data analysis with appropriate code and clearly printed/labeled outputs (Python) and summary in (Markdown)\n",
    "- Hypothesis to test (Markdown)\n",
    "- Appropriate statistical test(s) (Python) and justification for why you used specific tests(s) (Markdown)\n",
    "- Summary of results including whether or not your hypothesis was supported and what the conservation implications may be. Use the Favoretto et al. paper along with at least two other sources (e.g., scientific paper, news article, reputable website) to back up your claims. \n",
    "- Make sure to cite your sources in-line. (Markdown)\n",
    "- Works cited in APA format (Markdown)\n",
    "\n",
    "Remember: This report should be written like an essay with logical sections and organization. The code should be easy to follow and understand and the summaries should have all the information provided by the code (e.g. means, P-values) included in the text such that they can stand alone without the code.&nbsp;\n",
    "\n",
    "Grades will be based on depth of research, originality of hypothesis, overall organization, code correctness, appropriateness of tests, and overall quality of the report.\n"
   ]
  },
  {
   "cell_type": "markdown",
   "metadata": {},
   "source": []
  }
 ],
 "metadata": {
  "language_info": {
   "name": "python"
  }
 },
 "nbformat": 4,
 "nbformat_minor": 2
}
