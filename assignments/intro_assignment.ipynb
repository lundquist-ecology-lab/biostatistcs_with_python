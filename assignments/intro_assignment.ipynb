{
 "cells": [
  {
   "cell_type": "markdown",
   "metadata": {},
   "source": [
    "# Introduction to Python on Jupyter Notebooks\n",
    "\n",
    "This short introductory assignment is meant to give you an opportunity to play around in a Jupyter notebook and practice working with .ipynb files.\n",
    "\n",
    "**Do these exercises in order**"
   ]
  },
  {
   "cell_type": "markdown",
   "metadata": {},
   "source": [
    "Exercise 1: Creating a Markdown and Python code block"
   ]
  },
  {
   "cell_type": "markdown",
   "metadata": {},
   "source": [
    "This is a `Markdown` code block. It is created by clicking the `+` icon on the top left (among other ways) and changing the drop down menu from \"Code\" to \"Markdown\". You can then type in this code block using plain text, the same way you would in a program like Microsoft Word. There are also some cool *Tricks* you can do to format your text. See this site [Markdown Cheat Sheet](https://www.markdownguide.org/cheat-sheet/) for some examples. Feel free to play around with this formatting.\n",
    "\n",
    "You can then run the code by pressing `Ctrl + Enter` on your keyboard or clicking the play button on the top bar of the editor window. \n",
    "\n",
    "Note: All code blocks can be run this way"
   ]
  },
  {
   "cell_type": "code",
   "execution_count": null,
   "metadata": {},
   "outputs": [],
   "source": [
    "# This is a Python code block. It is created the same way at the Markdown one above\n",
    "# but \"Code\" is selected instead\n",
    "# In Python blocks, any line that begins with a # is a comment that is not run\n",
    "# and anything else is considered code.\n",
    "\n",
    "x = 1\n",
    "y = 1\n",
    "\n",
    "print(x + y)\n",
    "\n",
    "# Run this code block and you should get the answer \"2\""
   ]
  },
  {
   "cell_type": "markdown",
   "metadata": {},
   "source": [
    "Now, below, create a Python block that provides the answer of 18 minus 5. Then create a Markdown block in which you explain the code that produced your answer."
   ]
  },
  {
   "cell_type": "markdown",
   "metadata": {},
   "source": [
    "Exercise 2: Downloading data\n",
    "\n",
    "There are a lot of data sources out there, both on the internet and within Python libraries like `seaborn`.\n",
    "\n",
    "Run the code below and create a markdown code block in which you explain what is going on in the code, in basic terms. We call this documentation, which is extremely important to include with code so that other people that you might share your code with know what is going on."
   ]
  },
  {
   "cell_type": "code",
   "execution_count": null,
   "metadata": {},
   "outputs": [],
   "source": [
    "import seaborn as sns\n",
    "\n",
    "penguins = sns.load_dataset('penguins')\n",
    "\n",
    "print(penguins.columns)"
   ]
  },
  {
   "cell_type": "markdown",
   "metadata": {},
   "source": [
    "Exercise 3: Error checking and fixing\n",
    "\n",
    "Being able to recognize and fix errors is important. When you hand in an assignment, your code needs to be working. However, sometimes you write code and it does not work. It is important to look through it carefully for typos or other errors. Python is a powerful language but it does not have autocorrect. Check this non-working code below for any errors and see if you can get it working. \n",
    "\n",
    "Note: When in doubt, ask Dr. Lundquist for help. If all else fails and you cannot figure out the fix, still submit it and Dr. Lundquist will fix it and base your score off of the severity of the error as well as the proportion of the assignment you had correct. "
   ]
  },
  {
   "cell_type": "code",
   "execution_count": null,
   "metadata": {},
   "outputs": [],
   "source": [
    "# Assuming you have a library to download Palmer Penguins data in Python, \n",
    "# this is just a placeholder to demonstrate.\n",
    "\n",
    "# Replace the below lines with valid Python code to fetch and inspect the Palmer Penguins data\n",
    "# You might want to use the seaborn library which has the penguins dataset\n",
    "\n",
    "import seaborn as sns\n",
    "\n",
    "penguins = sns.load_dataset('penguins')\n",
    "\n",
    "# Check names of the columns\n",
    "print(penguins.columns)\n",
    "\n",
    "# Figure out data classes\n",
    "print(type(penguins['Species'][0]))\n",
    "print(type(penguens['bill_length_mm'][0]))\n",
    "print(type(penguins['body_wight_g'][0]))"
   ]
  },
  {
   "cell_type": "markdown",
   "metadata": {},
   "source": [
    "Exercise 4: Saving and exporting your work\n",
    "\n",
    "Once you have saved your work, right click on the file and select \"Download\" to download it to your computer. You can then submit it to Brightspace. \n",
    "\n",
    "You can also upload files into your Juypter Notebook by dragging and dropping them into the notebook. You can also upload files from your computer by clicking on the \"Upload\" button in the top right corner of the sidebar.\n",
    "\n",
    "Note: Brightspace can not read a .ipynb file. This is okay, Dr. Lundquist can still download it and run it.\n"
   ]
  },
  {
   "cell_type": "markdown",
   "metadata": {},
   "source": [
    "\n",
    "### Check out the [Lecture VODs](https:www.griffystats.com/stream_VOD) for demonstrations of how to use JupyterHub\n",
    "\n",
    "Note: These videos were recorded during the live lectures from Fall 2023. They are meant to be informative but please refer to the syllabus for all due dates and assignments for your current course."
   ]
  }
 ],
 "metadata": {
  "kernelspec": {
   "display_name": "Python 3",
   "language": "python",
   "name": "python3"
  },
  "language_info": {
   "codemirror_mode": {
    "name": "ipython",
    "version": 3
   },
   "file_extension": ".py",
   "mimetype": "text/x-python",
   "name": "python",
   "nbconvert_exporter": "python",
   "pygments_lexer": "ipython3",
   "version": "3.12.2"
  },
  "orig_nbformat": 4
 },
 "nbformat": 4,
 "nbformat_minor": 2
}
