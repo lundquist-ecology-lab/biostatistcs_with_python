{
 "cells": [
  {
   "cell_type": "markdown",
   "id": "eb97becb-d7f5-42ec-9370-b914ef778c9c",
   "metadata": {},
   "source": [
    "# Hypothesis testing and Experimental Design"
   ]
  },
  {
   "cell_type": "markdown",
   "id": "817838b8-1d82-44f4-85a7-bef6e9268c96",
   "metadata": {},
   "source": [
    "## Introduction\n",
    "\n",
    "Hypothesis testing is the comparing observations to an expected null (or uninteresting) hypothesis. If our observations are different than what we would expect from the null, we reject that null.\n",
    "\n",
    "- Null hypothesis (H0): The parameter of interest is zero.\n",
    "- Alternative hypothesis (HA): The parameter of interest is not zero.\n",
    "\n",
    "<div class=\"alert alert-danger\">We find evidence to reject the null, not accept the alternative (the possible alternatives are potentially infinite).</div>"
   ]
  },
  {
   "cell_type": "markdown",
   "id": "da39d8e1",
   "metadata": {},
   "source": [
    "### Video\n",
    "<iframe width=\"462\" height=\"260\" src=\"https://www.youtube.com/embed/RZ__u7fi5-M\" title=\"What is a hypothesis?\" frameborder=\"0\" allow=\"accelerometer; autoplay; clipboard-write; encrypted-media; gyroscope; picture-in-picture; web-share\" allowfullscreen></iframe>\n",
    "\n",
    "[Video link](https://youtu.be/RZ__u7fi5-M)"
   ]
  },
  {
   "cell_type": "markdown",
   "id": "00ffd9ed-bd55-47b2-ae1a-4933427c49f7",
   "metadata": {},
   "source": [
    "## Example hypotheses\n",
    "\n",
    "$H_0: \\bar{y} = 0$\n",
    "\n",
    "$H_A: \\bar{y} \\neq 0$"
   ]
  },
  {
   "cell_type": "markdown",
   "id": "8e8fb405-af8d-4fbb-8213-49fa1ae99f02",
   "metadata": {},
   "source": [
    "### Test statistics and null distribution\n",
    "\n",
    "**Test statistics** are the values calculated from our observations to compare to the expected under the null.\n",
    "\n",
    "The **null distribution** is the probability distribution of test statistics expected under the null"
   ]
  },
  {
   "cell_type": "markdown",
   "id": "c6561149-0f5b-4a33-bae2-76dcd109aa64",
   "metadata": {},
   "source": [
    "### Example null distribution"
   ]
  },
  {
   "cell_type": "code",
   "execution_count": 3,
   "id": "3cb46b18-255b-47b9-b073-0c232aded1d1",
   "metadata": {
    "tags": []
   },
   "outputs": [
    {
     "data": {
      "image/png": "[encoded data removed]",
      "text/plain": [
       "<Figure size 640x480 with 1 Axes>"
      ]
     },
     "metadata": {},
     "output_type": "display_data"
    }
   ],
   "source": [
    "import numpy as np\n",
    "import matplotlib.pyplot as plt\n",
    "\n",
    "np.random.seed(0)\n",
    "\n",
    "fish_tank = np.array([\"red\"] * 100 + [\"pale\"] * 100)\n",
    "red_mating_null = []\n",
    "\n",
    "for i in range(10000):\n",
    "    x = np.random.choice(fish_tank, size=20, replace=False)\n",
    "    y = np.sum(x == \"red\")\n",
    "    red_mating_null.append(y)\n",
    "\n",
    "# Calculate histogram, but do not draw it\n",
    "h, bins = np.histogram(red_mating_null, bins=range(21), density=True)\n",
    "bin_centers = 0.5 * (bins[:-1] + bins[1:])\n",
    "\n",
    "plt.figure()\n",
    "plt.bar(bin_centers, h, width=1, color=\"lightgray\")\n",
    "plt.xlabel(\"Red Matings\")\n",
    "plt.ylabel(\"Probability under H₀\")\n",
    "plt.title(\"Null distribution for the number of matings of red males\")\n",
    "plt.xlim(0, 20)\n",
    "\n",
    "# Add shaded regions for 2.5% tails\n",
    "cutoff = np.percentile(red_mating_null, [2.5, 97.5])\n",
    "plt.axvspan(0, cutoff[0], facecolor='red', alpha=0.3)\n",
    "plt.axvspan(cutoff[1], 20, facecolor='red', alpha=0.3)\n",
    "\n",
    "plt.show()\n"
   ]
  },
  {
   "cell_type": "markdown",
   "id": "c7166446-13d3-4416-8a06-a178ea1af165",
   "metadata": {},
   "source": [
    "### P-values\n",
    "**P-value**: the probability of obtaining our results given that the null is true.\n",
    "\n",
    "We can calculate the P-value here by taking the sum of the area under the curve of our null distribution where our results and any more extreme results fall (and where the opposite extremes fall, because it is two-tailed).\n",
    "\n",
    "A one-tailed test would calculate P using only the left or right of the null distribution."
   ]
  },
  {
   "cell_type": "markdown",
   "id": "5a3fd1cb",
   "metadata": {},
   "source": [
    "### Video\n",
    "<iframe width=\"462\" height=\"260\" src=\"https://www.youtube.com/embed/Wan9zkcV0eU\" title=\"P-values and significance\" frameborder=\"0\" allow=\"accelerometer; autoplay; clipboard-write; encrypted-media; gyroscope; picture-in-picture; web-share\" allowfullscreen></iframe>\n",
    "\n",
    "[Video link](https://youtu.be/Wan9zkcV0eU)"
   ]
  },
  {
   "cell_type": "markdown",
   "id": "ebd1185c-a6c1-49f5-b78d-3f50064973f7",
   "metadata": {},
   "source": [
    "### Decision rule\n",
    "\n",
    "When working with P-value, we typically use a standard significance value, or α = 0.05. Which means that we need to be 95% certain that our results are not due to random chance.\n",
    "\n",
    "For the example above, P = 0.017, which is less than 0.05, therefore we reject the null that mating was random"
   ]
  },
  {
   "cell_type": "markdown",
   "id": "6f0f686f-d428-427d-afb9-05cb556ee116",
   "metadata": {},
   "source": [
    "### Errors\n",
    "\n",
    "**Type I error**: rejecting a true null hypothesis. The probability of committing a Type I error = α.\n",
    "\n",
    "**Type II error**: failing to reject a false null hypothesis. A test has more power if there is a lower likelihood of committing a Type II error."
   ]
  },
  {
   "cell_type": "markdown",
   "id": "693288fa",
   "metadata": {},
   "source": [
    "### Video\n",
    "<iframe width=\"462\" height=\"260\" src=\"https://www.youtube.com/embed/uzLs-L-SaNo\" title=\"Type I and Type II errors\" frameborder=\"0\" allow=\"accelerometer; autoplay; clipboard-write; encrypted-media; gyroscope; picture-in-picture; web-share\" allowfullscreen></iframe>\n",
    "\n",
    "[Video link](https://youtu.be/uzLs-L-SaNo)"
   ]
  },
  {
   "cell_type": "markdown",
   "id": "8ad025ef-d88b-4d69-82ed-18e271c20c12",
   "metadata": {},
   "source": [
    "### Experimental design\n",
    "\n",
    "Types of studies:\n",
    "\n",
    "- Clinical study: two or more treatments are assigned to human subjects\n",
    "- Laboratory study: two or more treatments are assigned to non-human subjects\n",
    "- Field study: two or more treatments are assigned to non-human subjects in nature."
   ]
  },
  {
   "cell_type": "markdown",
   "id": "79e34b7a-753c-4e82-b25e-9fbc18a7e957",
   "metadata": {},
   "source": [
    "### Why well planed experiments are important\n",
    "\n",
    "- Bias is reduced\n",
    "    - Assigning **control groups**\n",
    "    - Treatments assigned at **random**\n",
    "    - **Blinding** to reduce conscious and unconscious bias\n",
    "Sampling error is reduced\n",
    "    - Treatment can be **replicated** multiple times\n",
    "    - Experimental units can be **balanced** (same number of units per treatment)\n",
    "    - Treatment replicates can be **blocked** together, to reduce effects of environmental variation\n",
    "\n",
    "<div class=\"alert alert-success\">Sometimes, observational studies must be done in lieu of an experimental study. While there is less opportunity for randomization, all other features of an experiment can be used.</div>"
   ]
  },
  {
   "cell_type": "markdown",
   "id": "71656188",
   "metadata": {},
   "source": [
    "### Video\n",
    "<iframe width=\"462\" height=\"260\" src=\"https://www.youtube.com/embed/eA3qcrts3Bo\" title=\"Example experiment\" frameborder=\"0\" allow=\"accelerometer; autoplay; clipboard-write; encrypted-media; gyroscope; picture-in-picture; web-share\" allowfullscreen></iframe>"
   ]
  },
  {
   "cell_type": "markdown",
   "id": "a3a6dcfb",
   "metadata": {},
   "source": [
    "\n",
    "**Blinding**, also referred to as \"masking,\" is a method used in experimental research to reduce bias by preventing participants, researchers, or assessors from knowing certain key aspects of the study. The purpose of blinding is to minimize the potential for conscious or subconscious influence on the results or outcomes, thereby enhancing the objectivity and validity of the study.\n",
    "\n",
    "There are different forms of blinding:\n",
    "\n",
    "- Single-Blind: In a single-blind study, either the participants or the researchers/assessors are unaware of specific details. For example, in a clinical trial, participants might not know whether they are receiving the experimental treatment or a placebo, while the researchers who interact with the participants are aware of the assignments.\n",
    "\n",
    "- Double-Blind: In a double-blind study, both the participants and the researchers/assessors are kept unaware of crucial information. This is often applied in clinical trials to avoid bias in both treatment administration and outcome assessment. For instance, neither the participants nor the researchers know who is receiving the actual treatment or the placebo.\n",
    "\n",
    "- Triple-Blind: This involves a third party, such as a data analyst, being blinded to certain aspects of the study. This helps prevent any unintentional manipulation of the analysis or interpretation of results.\n",
    "\n",
    "**Blocking** in experiments is a technique used to control and account for sources of variability or nuisance factors that could potentially affect the outcome of the study. It involves grouping similar experimental units together into blocks and then ensuring that each treatment group is represented within each block. This helps to minimize the impact of confounding variables and enhance the accuracy and validity of the experimental results."
   ]
  },
  {
   "cell_type": "markdown",
   "id": "0e99f37d",
   "metadata": {},
   "source": [
    "## End of chapter questions"
   ]
  },
  {
   "cell_type": "markdown",
   "id": "a4e084fa",
   "metadata": {},
   "source": [
    "1. A pharmaceutical company is testing a new drug for reducing blood pressure. In a randomized controlled trial, they administer the drug to one group and a placebo to another. After analyzing the data, they calculate a p-value of 0.03. What does this p-value indicate about the results of the experiment? How would you interpret this value in terms of the null and alternative hypotheses? Make sure to include the appropriate hypotheses."
   ]
  },
  {
   "cell_type": "markdown",
   "id": "de6cbeeb",
   "metadata": {},
   "source": [
    "2. In a biodiversity study of a remote rainforest ecosystem, researchers use a technological sampling method to detect the presence of a rare species of bird. They have noted that their sampling technique has a 15% false positive rate, meaning it sometimes identifies the species even when it's not present in a sampled area. Explain the concepts of Type I and Type II errors in this ecological context. Provide an example of each error using the bird species study. How could the researchers adjust their sampling approach to minimize these errors while considering the conservation implications of the species' rarity?"
   ]
  },
  {
   "cell_type": "markdown",
   "id": "cc6d4357",
   "metadata": {},
   "source": [
    "3. Researchers are investigating the effects of a new exercise program on weight loss. They recruit participants by posting flyers at local gyms, but they notice that most of the participants are already physically active. How could this lead to bias in the study results? Suggest two strategies the researchers could use to reduce this bias and ensure a more representative sample."
   ]
  },
  {
   "cell_type": "markdown",
   "id": "d3ecb8a9",
   "metadata": {},
   "source": [
    "4. A botanist aims to investigate the effects of varying light intensities on the growth of a specific plant species. Outline three crucial factors the botanist should take into account when designing this experiment. How might randomization, blinding, and controlling confounding variables contribute to the reliability of the study's conclusions? Provide concrete examples for each factor."
   ]
  }
 ],
 "metadata": {
  "kernelspec": {
   "display_name": "Python 3 (ipykernel)",
   "language": "python",
   "name": "python3"
  },
  "language_info": {
   "codemirror_mode": {
    "name": "ipython",
    "version": 3
   },
   "file_extension": ".py",
   "mimetype": "text/x-python",
   "name": "python",
   "nbconvert_exporter": "python",
   "pygments_lexer": "ipython3",
   "version": "3.11.3"
  }
 },
 "nbformat": 4,
 "nbformat_minor": 5
}
