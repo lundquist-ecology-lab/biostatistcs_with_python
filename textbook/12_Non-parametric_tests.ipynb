{
 "cells": [
  {
   "cell_type": "markdown",
   "id": "98870c43-a50b-49b9-9845-31cb208f8d7d",
   "metadata": {},
   "source": [
    "# Data transformations and non-Parametric Statistical Tests"
   ]
  },
  {
   "cell_type": "markdown",
   "id": "dddce257-00f0-44a8-95d5-fb1a6452c8fc",
   "metadata": {},
   "source": [
    "Learning Goals:\n",
    "1. Understand the concept and applications of non-parametric tests.\n",
    "2. Learn about common non-parametric tests and their parametric counterparts.\n",
    "3. Explore the advantages and limitations of non-parametric tests.\n",
    "4. Utilize Python code examples to perform non-parametric tests."
   ]
  },
  {
   "cell_type": "markdown",
   "id": "887f49bb-e980-4a11-9c97-eedc9f76b0b0",
   "metadata": {},
   "source": [
    "## Introduction\n",
    "Up to this point, we have been testing whether the assumptions of our particular test has been met by our data. However, it is not guaranteed that our assumptions will be met in all cases. If we find that the assumptions have been violated, we have a few options.\n",
    "\n",
    "1. Ignore violations of assumptions: This usually only works when we are comparing means and the **normality assumption** is violated. If our *n* is high, we can ignore slight non-normality. We can’t really do this for differences in variance, especially if our samples are small or our uneven.\n",
    "\n",
    "2. Transform your data: We can use different transformations on the data and then retest the assumptions. **Important:** While analyses should be done using transformed data, data should be presented and reported untransformed, *and* all data used in a particular study needs to be transformed using the same technique. Examples:\n",
    "   \n",
    "- Natural log transformation: ln(y + 1)\n",
    "- Log 10 transformation: log10(y + 1)\n",
    "- Square-root transformation: sqrt(y + 0.5)\n",
    "- Arcsine square root transformation (for proportions): arcsin(sqrt(p))\n",
    "- Reciprocal transformation: 1 / y"
   ]
  },
  {
   "cell_type": "markdown",
   "id": "69549127",
   "metadata": {},
   "source": [
    "\n",
    "\n",
    "3. Use nonparametric tests: non-parametric tests are statistical tests that do not rely on assumptions about the underlying distribution of the data. They are used when data do not meet the assumptions of parametric tests or when the research question involves categorical or ranked data. Nonparametric tests tend to have a **lower power** than parametric tests."
   ]
  },
  {
   "cell_type": "markdown",
   "id": "f1b0075c-ce11-46d6-a51d-adf75e4a3967",
   "metadata": {},
   "source": [
    "### Applications of Non-Parametric Tests\n",
    "Non-parametric tests are commonly used in various scenarios, including:\n",
    "- Comparing medians or distributions across groups.\n",
    "- Analyzing ranked or ordinal data.\n",
    "- Testing for independence or association between variables."
   ]
  },
  {
   "cell_type": "markdown",
   "id": "a7b16fe1-1765-49f7-895c-f7f1a8fd2e5d",
   "metadata": {
    "tags": []
   },
   "source": [
    "## Common Non-Parametric Tests"
   ]
  },
  {
   "cell_type": "markdown",
   "id": "d4fdd3dd-c245-4170-a755-d34579f763e2",
   "metadata": {},
   "source": [
    "### Mann-Whitney U Test (Replacement for two sample t-test)\n",
    "\n",
    "The Mann-Whitney U test compares medians between two independent groups."
   ]
  },
  {
   "cell_type": "code",
   "execution_count": 4,
   "id": "bfeca962-d17b-47c5-b95c-d494f97671e9",
   "metadata": {
    "tags": []
   },
   "outputs": [
    {
     "name": "stdout",
     "output_type": "stream",
     "text": [
      "Mann-Whitney U Test Results:\n",
      "Test Statistic: 19.5\n",
      "p-value: 0.17\n"
     ]
    }
   ],
   "source": [
    "from scipy.stats import mannwhitneyu\n",
    "\n",
    "# Example data (replace with your own data)\n",
    "group1 = [6, 7, 8, 9, 10]\n",
    "group2 = [3, 5, 6, 7, 9]\n",
    "\n",
    "# Perform Mann-Whitney U test\n",
    "statistic, p_value = mannwhitneyu(group1, group2)\n",
    "print(\"Mann-Whitney U Test Results:\")\n",
    "print(\"Test Statistic:\", round(statistic, 2))\n",
    "print(\"p-value:\", round(p_value, 2))"
   ]
  },
  {
   "cell_type": "markdown",
   "id": "fc637c17-7217-43d9-b3c2-a81569a8d903",
   "metadata": {},
   "source": [
    "### Wilcoxon Signed-Rank Test (Replacement for Paired t-test)\n",
    "\n",
    "The Wilcoxon Signed-Rank test compares medians between paired or matched samples."
   ]
  },
  {
   "cell_type": "code",
   "execution_count": 5,
   "id": "209962ba-07ab-4ee9-8d0a-be04b4f46723",
   "metadata": {
    "tags": []
   },
   "outputs": [
    {
     "name": "stdout",
     "output_type": "stream",
     "text": [
      "Wilcoxon Signed-Rank Test Results:\n",
      "Test Statistic: 0.0\n",
      "p-value: 0.06\n"
     ]
    }
   ],
   "source": [
    "from scipy.stats import wilcoxon\n",
    "\n",
    "# Example data\n",
    "before = [5, 7, 6, 4, 9]\n",
    "after = [6, 8, 7, 5, 11]\n",
    "\n",
    "# Perform Wilcoxon Signed-Rank test\n",
    "statistic, p_value = wilcoxon(before, after)\n",
    "print(\"Wilcoxon Signed-Rank Test Results:\")\n",
    "print(\"Test Statistic:\", round(statistic, 2))\n",
    "print(\"p-value:\", round(p_value, 2))"
   ]
  },
  {
   "cell_type": "markdown",
   "id": "298a2752-4a96-4b90-a165-dc03f375398a",
   "metadata": {},
   "source": [
    "### Kruskal-Wallis H Test (Replacement for One-Way ANOVA)\n",
    "\n",
    "The Kruskal-Wallis H test compares medians across two or more independent groups."
   ]
  },
  {
   "cell_type": "code",
   "execution_count": 6,
   "id": "26137e17-bcfa-40f3-9e46-c4b34384ba64",
   "metadata": {
    "tags": []
   },
   "outputs": [
    {
     "name": "stdout",
     "output_type": "stream",
     "text": [
      "Kruskal-Wallis H Test Results:\n",
      "Test Statistic: 2.83\n",
      "p-value: 0.24\n"
     ]
    }
   ],
   "source": [
    "from scipy.stats import kruskal\n",
    "\n",
    "# Example data (replace with your own data)\n",
    "group1 = [5, 6, 7, 8, 9]\n",
    "group2 = [3, 5, 6, 7, 9]\n",
    "group3 = [2, 4, 6, 5, 7]\n",
    "\n",
    "# Perform Kruskal-Wallis H test\n",
    "statistic, p_value = kruskal(group1, group2, group3)\n",
    "print(\"Kruskal-Wallis H Test Results:\")\n",
    "print(\"Test Statistic:\", round(statistic, 2))\n",
    "print(\"p-value:\", round(p_value, 2))"
   ]
  },
  {
   "cell_type": "markdown",
   "id": "919e7e85-8376-4fd3-a2ff-0ed908732ff3",
   "metadata": {},
   "source": [
    "## Advantages and Limitations of Non-Parametric Tests\n",
    "\n",
    "Advantages\n",
    "- Non-reliance on distributional assumptions.\n",
    "- Robustness against outliers.\n",
    "\n",
    "Limitations\n",
    "- Less statistical power compared to parametric tests.\n",
    "- Restricted to certain types of research questions."
   ]
  },
  {
   "cell_type": "markdown",
   "id": "0808cc84",
   "metadata": {},
   "source": [
    "## End of chapter question"
   ]
  },
  {
   "cell_type": "markdown",
   "id": "d5447e84",
   "metadata": {},
   "source": [
    "Using the Palmer Penguin data set, compare the weights of male penguins of all three species using the non-parametric alternative to the ANOVA."
   ]
  }
 ],
 "metadata": {
  "kernelspec": {
   "display_name": "Python 3 (ipykernel)",
   "language": "python",
   "name": "python3"
  },
  "language_info": {
   "codemirror_mode": {
    "name": "ipython",
    "version": 3
   },
   "file_extension": ".py",
   "mimetype": "text/x-python",
   "name": "python",
   "nbconvert_exporter": "python",
   "pygments_lexer": "ipython3",
   "version": "3.11.3"
  }
 },
 "nbformat": 4,
 "nbformat_minor": 5
}
