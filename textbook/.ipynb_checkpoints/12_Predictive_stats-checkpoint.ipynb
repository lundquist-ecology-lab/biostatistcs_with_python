{
 "cells": [
  {
   "cell_type": "markdown",
   "id": "6e7df147-b692-411b-bd95-107d786697fc",
   "metadata": {},
   "source": [
    "# Correlation and Regression Analysis"
   ]
  },
  {
   "cell_type": "markdown",
   "id": "0e38e343-331a-4017-97d6-73ee10608f68",
   "metadata": {},
   "source": [
    "Learning Goals:\n",
    "1. Understand the concepts of correlation and regression analysis.\n",
    "2. Learn how to measure and interpret correlation between variables.\n",
    "3. Explore simple linear regression and its applications.\n",
    "4. Utilize Python code examples to perform correlation and regression analysis."
   ]
  },
  {
   "cell_type": "markdown",
   "id": "52d327d3-510a-460c-8f45-658339212375",
   "metadata": {},
   "source": [
    "## Introduction\n",
    "\n",
    "Correlation measures the strength and direction of the relationship between two variables. It helps determine whether variables are positively, negatively, or not correlated. Regression analysis models the relationship between a dependent variable and one or more independent variables. It helps predict and understand the impact of independent variables on the dependent variable.\n",
    "\n",
    "## Types of Correlation\n",
    "- Pearson correlation: Measures linear correlation between continuous variables.\n",
    "- Spearman correlation: Measures monotonic (non-linear) correlation or correlation between ranked variables.\n",
    "\n",
    "## Measuring and Interpreting Correlation\n",
    "The **Pearson correlation coefficient**, denoted as r, ranges from -1 to 1. It indicates the strength and direction of the linear relationship between variables.\n",
    "\n",
    "The **Spearman correlation coefficient**, denoted as ρ (rho), also ranges from -1 to 1. It assesses the monotonic relationship between variables."
   ]
  },
  {
   "cell_type": "code",
   "execution_count": 5,
   "id": "43088c35-5391-4eab-b16f-1188eec232df",
   "metadata": {
    "tags": []
   },
   "outputs": [
    {
     "name": "stdout",
     "output_type": "stream",
     "text": [
      "Pearson correlation coefficient: 0.99\n",
      "Spearman correlation coefficient: 1.0\n"
     ]
    }
   ],
   "source": [
    "import numpy as np\n",
    "import scipy.stats as stats\n",
    "\n",
    "# Example data (replace with your own data)\n",
    "x = [1, 2, 3, 4, 5]\n",
    "y = [5, 7, 8, 9, 11]\n",
    "\n",
    "# Calculate Pearson correlation coefficient\n",
    "pearson_corr, _ = stats.pearsonr(x, y)\n",
    "print(\"Pearson correlation coefficient:\", round(pearson_corr, 2))\n",
    "\n",
    "# Calculate Spearman correlation coefficient\n",
    "spearman_corr, _ = stats.spearmanr(x, y)\n",
    "print(\"Spearman correlation coefficient:\", round(spearman_corr, 2))"
   ]
  },
  {
   "cell_type": "markdown",
   "id": "1c0fdb42-406d-46ed-b010-f0366b6b1891",
   "metadata": {},
   "source": [
    "## Correlation Interpretation\n",
    "Pearson correlation coefficient (r):\n",
    "  - r > 0: Positive correlation.\n",
    "  - r < 0: Negative correlation.\n",
    "  - r ≈ 0: Weak or no correlation.\n",
    "  \n",
    "Spearman correlation coefficient (ρ):\n",
    "  - ρ > 0: Monotonic positive correlation.\n",
    "  - ρ < 0: Monotonic negative correlation.\n",
    "  - ρ ≈ 0: Weak or no monotonic correlation.\n",
    "\n"
   ]
  },
  {
   "cell_type": "markdown",
   "id": "d2833808-7f93-424d-8410-fe974dab47a3",
   "metadata": {},
   "source": [
    "## Simple Linear Regression\n",
    "Simple linear regression models the relationship between two continuous variables using a straight line equation \n",
    "\n",
    "$y = mx + b$"
   ]
  },
  {
   "cell_type": "code",
   "execution_count": 6,
   "id": "0a82778e-98a1-4319-9386-37dd2c91eee4",
   "metadata": {
    "tags": []
   },
   "outputs": [
    {
     "data": {
      "image/png": "[encoded data removed]",
      "text/plain": [
       "<Figure size 640x480 with 1 Axes>"
      ]
     },
     "metadata": {},
     "output_type": "display_data"
    },
    {
     "name": "stdout",
     "output_type": "stream",
     "text": [
      "Slope: 1.4\n",
      "Intercept: 3.8\n",
      "R-value (Correlation Coefficient): 0.99\n",
      "P-value: 0.001\n",
      "Standard Error: 0.115\n"
     ]
    }
   ],
   "source": [
    "import numpy as np\n",
    "import scipy.stats as stats\n",
    "import matplotlib.pyplot as plt\n",
    "\n",
    "# Example data (replace with your own data)\n",
    "x = [1, 2, 3, 4, 5]\n",
    "y = [5, 7, 8, 9, 11]\n",
    "\n",
    "# Perform simple linear regression\n",
    "slope, intercept, r_value, p_value, std_err = stats.linregress(x, y)\n",
    "\n",
    "# Plot the regression line\n",
    "plt.scatter(x, y)\n",
    "plt.plot(x, slope * np.array(x) + intercept, color='red')\n",
    "plt.xlabel('X')\n",
    "plt.ylabel('Y')\n",
    "plt.title('Simple Linear Regression')\n",
    "plt.show()\n",
    "\n",
    "print(\"Slope:\", round(slope, 3))\n",
    "print(\"Intercept:\", round(intercept, 3))\n",
    "print(\"R-value (Correlation Coefficient):\", round(r_value, 3))\n",
    "print(\"P-value:\", round(p_value, 3))\n",
    "print(\"Standard Error:\", round(std_err, 3))"
   ]
  },
  {
   "cell_type": "markdown",
   "id": "c00f0376-8936-4e92-9d7b-94125eee731f",
   "metadata": {},
   "source": [
    "## Regression Interpretation\n",
    "- Slope: Represents the change in the dependent variable per unit change in the independent variable.\n",
    "- Intercept: Represents the predicted value of the dependent variable when the independent variable is zero.\n",
    "- R-value: Indicates the strength and direction of the linear relationship between variables.\n",
    "- P-value: Determines the statistical significance of the relationship.\n",
    "- Standard Error: Provides a measure of the accuracy of the regression estimates."
   ]
  },
  {
   "cell_type": "markdown",
   "id": "b5e2f71a-ce34-4c11-bb28-da3194296257",
   "metadata": {},
   "source": [
    "## End of chapter question"
   ]
  },
  {
   "cell_type": "markdown",
   "id": "96be0bac-40da-4c76-ab33-82a46b1ea6e0",
   "metadata": {},
   "source": [
    "Using the Palmer Penguin data, determine how well female Gentoo penguin weight and flipper length correlate and how well the change in weight predicts flipper length. Make sure to provide both numeric and graphical outputs."
   ]
  }
 ],
 "metadata": {
  "kernelspec": {
   "display_name": "Python 3 (ipykernel)",
   "language": "python",
   "name": "python3"
  },
  "language_info": {
   "codemirror_mode": {
    "name": "ipython",
    "version": 3
   },
   "file_extension": ".py",
   "mimetype": "text/x-python",
   "name": "python",
   "nbconvert_exporter": "python",
   "pygments_lexer": "ipython3",
   "version": "3.10.6"
  }
 },
 "nbformat": 4,
 "nbformat_minor": 5
}
