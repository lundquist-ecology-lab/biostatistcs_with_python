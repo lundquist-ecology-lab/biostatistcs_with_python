{
 "cells": [
  {
   "cell_type": "markdown",
   "id": "718c8cfb-66b3-4e59-95ac-91ea0ce7c097",
   "metadata": {},
   "source": [
    "# Describing data: Summary Statistics"
   ]
  },
  {
   "cell_type": "markdown",
   "id": "d2b43072",
   "metadata": {},
   "source": [
    "<div class=\"alert alert-info\">Learning goals</div>\n",
    "\n",
    "- Effectively use mean and median to describe data.\n",
    "- Explain the differences between the first and third quartiles. \n",
    "- Calculate and interpret variance and standard deviations\n",
    "- Identify the difference between numerical data and proportions\n",
    "- Utilize Python to produce summary statistics"
   ]
  },
  {
   "cell_type": "markdown",
   "id": "b10c4516-d351-4879-b50b-89d8388e417b",
   "metadata": {},
   "source": [
    "Summary statistics are integral to biostatistics as they provide a preliminary understanding of the data at hand. They offer an initial look into the central tendency, variability, and distribution of the data. In this chapter, we will cover mean, median, interquartile range, variance, standard deviation, proportions, and explore how to compute these summary statistics in Python."
   ]
  },
  {
   "cell_type": "markdown",
   "id": "8df4c496-85fe-471e-b529-c7c849ac3a8d",
   "metadata": {},
   "source": [
    "### Mean\n",
    "\n",
    "The mean, often referred to as the average, is the sum of all measurements divided by the number of measurements. It's a measure of central tendency that indicates where the data clusters around. The formula to calculate the sample mean (ȳ) is:\n",
    "\n",
    "$$\\bar{y} = \\frac{\\sum{y_i}}{n}$$\n",
    "\n",
    "<div class=\"alert alert-success\">Σ denotes sum, yi refers to the ith observation, and n is the sample size.</div>"
   ]
  },
  {
   "cell_type": "code",
   "execution_count": 1,
   "id": "88982481-be75-4ad0-8516-db2d1a6588b7",
   "metadata": {
    "tags": []
   },
   "outputs": [
    {
     "name": "stdout",
     "output_type": "stream",
     "text": [
      "Mean of x = 2.4\n"
     ]
    }
   ],
   "source": [
    "x = [1, 4, 2, 3, 2]\n",
    "n = len(x)\n",
    "\n",
    "print(\"Mean of x =\", round(sum(x)/n, 2))"
   ]
  },
  {
   "cell_type": "markdown",
   "id": "28cf1f3d-6e92-4318-9b89-19110e09267e",
   "metadata": {},
   "source": [
    "#### Median\n",
    "\n",
    "The median is the middle measurement in a **sorted** list of all measurements. If the list contains an even number of observations, the median is the average of the two middle numbers. Like the mean, it's a measure of central tendency, but unlike the mean, it's not affected by extreme values (outliers)."
   ]
  },
  {
   "cell_type": "code",
   "execution_count": 2,
   "id": "7c8961f2-9c68-46ce-b6e6-6227dd670d85",
   "metadata": {
    "tags": []
   },
   "outputs": [
    {
     "name": "stdout",
     "output_type": "stream",
     "text": [
      "Median of x = 3\n"
     ]
    }
   ],
   "source": [
    "x = [1, 4, 2, 3, 2]\n",
    "x.sort()\n",
    "\n",
    "print(\"Median of x =\", x[3])"
   ]
  },
  {
   "cell_type": "markdown",
   "id": "68a89c50",
   "metadata": {},
   "source": [
    "### Video\n",
    "\n",
    "<iframe width=\"462\" height=\"260\" src=\"https://www.youtube.com/embed/54Ed30Ld-FA\" title=\"Mean, median, and mode\" frameborder=\"0\" allow=\"accelerometer; autoplay; clipboard-write; encrypted-media; gyroscope; picture-in-picture; web-share\" allowfullscreen></iframe>"
   ]
  },
  {
   "cell_type": "markdown",
   "id": "8647c403-e55f-4b8b-a6c1-f09e2aee1f12",
   "metadata": {},
   "source": [
    "#### Interquartile Range\n",
    "\n",
    "The Interquartile Range (IQR) represents the middle 50% of the measurements, i.e., the range between the first quartile (Q1) and the third quartile (Q3). It's a measure of statistical dispersion, indicating how spread out the measurements are."
   ]
  },
  {
   "cell_type": "code",
   "execution_count": 46,
   "id": "b97b0725-22b6-4500-8177-9eda83ca1f8e",
   "metadata": {
    "tags": []
   },
   "outputs": [
    {
     "name": "stdout",
     "output_type": "stream",
     "text": [
      "First quartile (25th percentile) = 2\n",
      "Third quartile (75th percentile) = 3\n"
     ]
    }
   ],
   "source": [
    "x = [1, 4, 2, 3, 2]\n",
    "x.sort()\n",
    "\n",
    "pct25 = x[round((25 / 100) * (len(x) - 1))]\n",
    "print('First quartile (25th percentile) =', pct25)\n",
    "\n",
    "pct75 = x[round((75 / 100) * (len(x) - 1))]\n",
    "print('Third quartile (75th percentile) =', pct75)"
   ]
  },
  {
   "cell_type": "markdown",
   "id": "43467ce1-0e4c-49e7-855c-211672b65569",
   "metadata": {},
   "source": [
    "#### Variance and Standard Deviation\n",
    "\n",
    "The variance (s²) and standard deviation (s) measure the dispersion of measurements. They indicate how much the measurements deviate from the mean. Variance is the average squared deviation from the mean, while the standard deviation is the square root of the variance. They are calculated as follows:\n",
    "\n",
    "Variance: $$s² = \\frac{Σ(y_i - \\bar{y})²}{n - 1}$$\n",
    "\n",
    "Standard Deviation: $$s = \\sqrt{s²}$$\n",
    "\n",
    "<div class=\"alert alert-success\">The numerator in the variance equation, Σ(yi - ȳ)², is called the sum of squares, which forms the basis of most basic statistics.</div>"
   ]
  },
  {
   "cell_type": "code",
   "execution_count": 49,
   "id": "7cf32852-cd69-4a44-b6de-6b69a566c9b2",
   "metadata": {
    "tags": []
   },
   "outputs": [
    {
     "name": "stdout",
     "output_type": "stream",
     "text": [
      "The variance of x = 1.3\n",
      "The standard deviation of x = 1.14\n"
     ]
    }
   ],
   "source": [
    "import math\n",
    "x = [1, 4, 2, 3, 2]\n",
    "\n",
    "mean_x = sum(x) / len(x)\n",
    "var_x = sum((xi - mean_x) ** 2 for xi in x) / (len(x) - 1)\n",
    "sd_x = math.sqrt(var_x)\n",
    "\n",
    "print('The variance of x =', round(var_x, 2))\n",
    "print('The standard deviation of x =', round(sd_x, 2))"
   ]
  },
  {
   "cell_type": "markdown",
   "id": "76420c07",
   "metadata": {},
   "source": [
    "### Video\n",
    "<iframe width=\"462\" height=\"260\" src=\"https://www.youtube.com/embed/oUWUUVSGfdc\" title=\"Variance and standard deviation\" frameborder=\"0\" allow=\"accelerometer; autoplay; clipboard-write; encrypted-media; gyroscope; picture-in-picture; web-share\" allowfullscreen></iframe>"
   ]
  },
  {
   "cell_type": "markdown",
   "id": "0b576a4a-ec58-4cec-ba2c-39b0195c27ea",
   "metadata": {},
   "source": [
    "#### Proportions\n",
    "\n",
    "In the context of categorical variables, proportions (p-hat) refer to the relative amount of a particular category in the dataset. The formula is:\n",
    "\n",
    "$$ \\hat{p} = \\frac{x}{n}$$\n",
    "\n",
    "<div class=\"alert alert-success\">x is the number of times the category of interest occurs, and n is the total number of observations.</div>\n",
    "\n",
    "#### Summary Statistics in Python\n",
    "\n",
    "Python, with libraries such as pandas and NumPy, provides efficient ways to compute these summary statistics. Here we will take a look at measurements of penguin features from the `palmerpenguins` dataset. This is similar to the `iris` dataset we already worked with in the previous chapter."
   ]
  },
  {
   "cell_type": "code",
   "execution_count": 1,
   "id": "e16d6371-4a0e-43f6-9919-74095d3501ee",
   "metadata": {
    "tags": []
   },
   "outputs": [
    {
     "name": "stdout",
     "output_type": "stream",
     "text": [
      "mean = 43.92\n",
      "standard deviation = 5.46\n",
      "n = 342\n",
      "Summary:\n",
      " count    342.00\n",
      "mean      43.92\n",
      "std        5.46\n",
      "min       32.10\n",
      "25%       39.22\n",
      "50%       44.45\n",
      "75%       48.50\n",
      "max       59.60\n",
      "Name: bill_length_mm, dtype: float64\n"
     ]
    }
   ],
   "source": [
    "import pandas as pd\n",
    "import numpy as np\n",
    "import seaborn as sns\n",
    "\n",
    "\n",
    "penguins = sns.load_dataset(\"penguins\")\n",
    "\n",
    "bill_length_mm = penguins['bill_length_mm'].dropna()\n",
    "\n",
    "# Sample mean\n",
    "mean = np.mean(bill_length_mm)\n",
    "print(\"mean =\", round(mean, 2))\n",
    "\n",
    "# Sample standard deviation\n",
    "std_dev = np.std(bill_length_mm, ddof=1)\n",
    "print(\"standard deviation =\", round(std_dev, 2))\n",
    "\n",
    "# Sample size\n",
    "n = len(bill_length_mm)\n",
    "print(\"n =\", n)\n",
    "\n",
    "\n",
    "# Summary stats using pandas\n",
    "print(\"Summary:\\n\", round(bill_length_mm.describe(), 2))"
   ]
  },
  {
   "cell_type": "markdown",
   "id": "ff6622e3-4b88-4b17-9c3f-0a8e16799731",
   "metadata": {},
   "source": [
    "In the code above, we're importing necessary libraries and the Palmer Penguins dataset, selecting the 'bill\\_length\\_mm' column, and calculating the mean and standard deviation. We also used pandas' `describe()` function, which provides a convenient summary of various statistics (count, mean, standard deviation, minimum, 25th percentile (Q1), median, 75th percentile (Q3), maximum).\n",
    "\n",
    "Note that when calculating the standard deviation with numpy, we pass in `ddof=1` to perform the calculation using n-1 in the denominator, which is the formula for the **sample standard deviation**. This makes the standard deviation a better estimate of the population parameter.\n",
    "\n",
    "By understanding and effectively computing these summary statistics, you'll be able to start to understand your data, laying the groundwork for further biostatistical analysis."
   ]
  },
  {
   "cell_type": "markdown",
   "id": "2db3c26c-3791-4a64-8991-0062efcef267",
   "metadata": {},
   "source": [
    "## Practice problems"
   ]
  },
  {
   "cell_type": "markdown",
   "id": "945b8618-a848-467f-8b1d-2e313837c100",
   "metadata": {},
   "source": [
    "1. Calculate the mean of the following list using Python:"
   ]
  },
  {
   "cell_type": "code",
   "execution_count": null,
   "id": "a8ef10ee-6268-40fe-acd4-2591c5c01dfe",
   "metadata": {},
   "outputs": [],
   "source": [
    "x = [1, 4, 2, 3, 2]"
   ]
  },
  {
   "cell_type": "markdown",
   "id": "c4226575-b550-41a6-b7b2-99d2bc02a953",
   "metadata": {},
   "source": [
    "2. Find the median of the given list using Python:"
   ]
  },
  {
   "cell_type": "code",
   "execution_count": null,
   "id": "270cb1be-1ea7-4a9a-9bec-090f9db4ef4f",
   "metadata": {},
   "outputs": [],
   "source": [
    "x = [1, 4, 2, 3, 2]"
   ]
  },
  {
   "cell_type": "markdown",
   "id": "12b7c9b0-0e28-4d55-9de9-fca8a5f7fa7b",
   "metadata": {},
   "source": [
    "3. Calculate the interquartile range (IQR) of the following list using Python:"
   ]
  },
  {
   "cell_type": "code",
   "execution_count": null,
   "id": "9fb69066-ca86-42c5-97c9-b591dd1a569c",
   "metadata": {},
   "outputs": [],
   "source": [
    "x = [1, 4, 2, 3, 2]"
   ]
  },
  {
   "cell_type": "markdown",
   "id": "4756abe7-9c27-46c5-a081-de343e3e9803",
   "metadata": {},
   "source": [
    "4. Compute the variance and standard deviation of the given list using Python:"
   ]
  },
  {
   "cell_type": "code",
   "execution_count": null,
   "id": "fef702f4-d829-48d3-a6c9-4f2cd52bb730",
   "metadata": {},
   "outputs": [],
   "source": [
    "x = [1, 4, 2, 3, 2]"
   ]
  },
  {
   "cell_type": "markdown",
   "id": "d35f3743-64cc-4576-9ea4-fe629818fe50",
   "metadata": {},
   "source": [
    "5. Calculate the proportion of a specific category in a dataset using Python:"
   ]
  },
  {
   "cell_type": "code",
   "execution_count": null,
   "id": "268cfed8-e7e1-450a-87c1-3d4f2f9484a0",
   "metadata": {},
   "outputs": [],
   "source": [
    "total_observations = 100\n",
    "category_count = 30"
   ]
  }
 ],
 "metadata": {
  "kernelspec": {
   "display_name": "Python 3 (ipykernel)",
   "language": "python",
   "name": "python3"
  },
  "language_info": {
   "codemirror_mode": {
    "name": "ipython",
    "version": 3
   },
   "file_extension": ".py",
   "mimetype": "text/x-python",
   "name": "python",
   "nbconvert_exporter": "python",
   "pygments_lexer": "ipython3",
   "version": "3.11.3"
  }
 },
 "nbformat": 4,
 "nbformat_minor": 5
}
