{
 "cells": [
  {
   "cell_type": "markdown",
   "id": "69346513-9c1d-4670-b9f1-f45a37cb24b8",
   "metadata": {},
   "source": [
    "# Contingency Tables and Chi-Square Test for Independence"
   ]
  },
  {
   "cell_type": "markdown",
   "id": "51a19f85-fd19-4701-bd05-7551192c661f",
   "metadata": {},
   "source": [
    "<div class=\"alert alert-success\">Learning Goals:</div>\n",
    "\n",
    "1. Understand the concept and applications of contingency tables.\n",
    "2. Learn how to create and interpret contingency tables.\n",
    "3. Explore the chi-square test for independence.\n",
    "4. Utilize Python code examples to perform analysis on contingency tables."
   ]
  },
  {
   "cell_type": "markdown",
   "id": "3574bde8-79de-4c90-9d65-425526e83e24",
   "metadata": {},
   "source": [
    "## Introduction\n",
    "Contingency tables, also known as cross-tabulation or crosstab, are used to summarize and examine the relationship between two categorical variables. They display the frequency distribution of the variables across different categories."
   ]
  },
  {
   "cell_type": "markdown",
   "id": "f63b2219-5d38-4e29-9938-c63a058fa29c",
   "metadata": {},
   "source": [
    "## Applications of Contingency Tables\n",
    "Contingency tables are commonly used in various scenarios, including:\n",
    "- Analyzing survey data.\n",
    "- Investigating association between variables.\n",
    "- Assessing the distribution of data across categories."
   ]
  },
  {
   "cell_type": "markdown",
   "id": "853ce573-1aa6-4631-9f09-fe4ad90d1cdf",
   "metadata": {},
   "source": [
    "## Creating and Interpreting Contingency Tables\n",
    "A contingency table organizes data into rows and columns, representing the categories of the two categorical variables being studied. The cells of the table contain the frequency or count of observations that fall into each combination of categories.\n",
    "\n",
    "Contingency tables allow us to observe patterns and relationships between the categorical variables. We can examine the distribution of frequencies across the cells to identify any associations or dependencies."
   ]
  },
  {
   "cell_type": "markdown",
   "id": "ed0ba2c7-48a3-4c0f-93b9-e7ccc4cedb5e",
   "metadata": {},
   "source": [
    "## Chi-Square Test for Independence\n",
    "The chi-square test for independence is used to determine whether there is a statistically significant association between two categorical variables. It compares the observed frequencies in a contingency table with the frequencies that would be expected if the variables were independent."
   ]
  },
  {
   "cell_type": "code",
   "execution_count": 4,
   "id": "0015b784-42e2-4cf1-b978-bb84cd9da251",
   "metadata": {
    "tags": []
   },
   "outputs": [
    {
     "name": "stdout",
     "output_type": "stream",
     "text": [
      "Chi-Square Test Results:\n",
      "Chi-square statistic: 11.47\n",
      "p-value: 0.0\n",
      "Degrees of Freedom: 1\n",
      "Expected Frequencies:\n",
      "[[ 9.23076923 10.76923077]\n",
      " [ 8.76923077 10.23076923]]\n"
     ]
    }
   ],
   "source": [
    "import numpy as np\n",
    "import scipy.stats as stats\n",
    "\n",
    "# Example data\n",
    "observed = np.array([[15, 5],\n",
    "                     [3, 16]])\n",
    "\n",
    "# Perform chi-square test for independence\n",
    "chi2, p_value, dof, expected = stats.chi2_contingency(observed)\n",
    "print(\"Chi-Square Test Results:\")\n",
    "print(\"Chi-square statistic:\", round(chi2, 2))\n",
    "print(\"p-value:\", round(p_value, 2))\n",
    "print(\"Degrees of Freedom:\", round(dof, 2))\n",
    "print(\"Expected Frequencies:\")\n",
    "print(expected)"
   ]
  },
  {
   "cell_type": "markdown",
   "id": "d8571f6c-4297-44fa-916a-85e0affb4559",
   "metadata": {},
   "source": [
    "## Interpreting Chi-Square Statistic and p-value\n",
    "- Chi-square statistic: Measures the overall association between variables.\n",
    "- p-value: Determines the statistical significance of the association.\n",
    "- If the p-value is below a predetermined significance level (e.g., 0.05), we reject the null hypothesis of independence and conclude that there is evidence of an association."
   ]
  }
 ],
 "metadata": {
  "kernelspec": {
   "display_name": "Python 3 (ipykernel)",
   "language": "python",
   "name": "python3"
  },
  "language_info": {
   "codemirror_mode": {
    "name": "ipython",
    "version": 3
   },
   "file_extension": ".py",
   "mimetype": "text/x-python",
   "name": "python",
   "nbconvert_exporter": "python",
   "pygments_lexer": "ipython3",
   "version": "3.10.6"
  }
 },
 "nbformat": 4,
 "nbformat_minor": 5
}
