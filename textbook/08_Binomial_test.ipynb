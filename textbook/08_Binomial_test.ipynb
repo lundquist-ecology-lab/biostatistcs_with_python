{
 "cells": [
  {
   "attachments": {},
   "cell_type": "markdown",
   "id": "6e1aaefb-ffcf-48e8-8e26-affbd3f264d2",
   "metadata": {},
   "source": [
    "# Binomial Distribution and Binomial Test"
   ]
  },
  {
   "attachments": {},
   "cell_type": "markdown",
   "id": "790f0687-e7ea-4ea7-940d-89d34474ae4f",
   "metadata": {},
   "source": [
    "<div class=\"alert alert-info\">Learning Goals:</div>\n",
    "\n",
    "1. Understand the binomial distribution and its characteristics.\n",
    "2. Learn how to calculate probabilities using the binomial distribution.\n",
    "3. Introduce the binomial test and its application in hypothesis testing.\n",
    "4. Utilize Python code examples to calculate probabilities, perform the binomial test, and visualize the binomial distribution."
   ]
  },
  {
   "attachments": {},
   "cell_type": "markdown",
   "id": "2ded62d7-d9b9-40c3-ada4-9d44a81f5798",
   "metadata": {},
   "source": [
    "## Introduction\n",
    "The binomial distribution models the number of successes in a fixed number of independent Bernoulli trials, where each trial has the same probability of success. It is characterized by two parameters: the number of trials (n) and the probability of success in each trial (p)."
   ]
  },
  {
   "cell_type": "markdown",
   "id": "cce97429",
   "metadata": {},
   "source": [
    "### Video\n",
    "<iframe width=\"462\" height=\"260\" src=\"https://www.youtube.com/embed/ZeBul2_S4tw\" title=\"Introduction to proportions and binomial data\" frameborder=\"0\" allow=\"accelerometer; autoplay; clipboard-write; encrypted-media; gyroscope; picture-in-picture; web-share\" allowfullscreen></iframe>"
   ]
  },
  {
   "attachments": {},
   "cell_type": "markdown",
   "id": "49278336-ba9c-44f2-b715-04bf50260ca7",
   "metadata": {},
   "source": [
    "### Characteristics of the Binomial Distribution\n",
    "- Probability Mass Function (PMF): The function that gives the probability of obtaining a specific number of successes.\n",
    "- Mean and Variance: The mean of the binomial distribution is given by np, and the variance is np(1-p).\n",
    "- Shape: The binomial distribution is usually right-skewed for small p or left-skewed for large p."
   ]
  },
  {
   "attachments": {},
   "cell_type": "markdown",
   "id": "975214ae-9395-4461-954e-043a4a4d2eef",
   "metadata": {},
   "source": [
    "### Calculating probabilities using the binomial distribution\n",
    "Probability Mass Function (PMF) is given by the formula:\n",
    "\n",
    "$$P(X = k) = C(n, k) * p^k * (1-p)^{(n-k)}$$\n",
    "\n",
    "Example:\n",
    "Consider flipping a fair coin 10 times. Let's calculate the probability of getting exactly 7 heads using the binomial distribution. Here, n = 10 (number of trials) and p = 0.5 (probability of heads).\n",
    "\n",
    "$$P(X = 7) = C(10, 7) * 0.5^7 * (1-0.5)^{(10-7)}$$\n",
    "\n",
    "### Cumulative Distribution Function (CDF)\n",
    "The CDF of the binomial distribution gives the probability of obtaining up to a certain number of successes.\n",
    "\n",
    "$$P(X ≤ k) = \\sum{P(X = i) }$$ \n",
    "$$\\text{for i = 0 to k}$$"
   ]
  },
  {
   "cell_type": "code",
   "execution_count": 1,
   "id": "bea48fcf-bf73-4fb8-a4ae-90f275d0b853",
   "metadata": {},
   "outputs": [
    {
     "data": {
      "image/png": "[encoded data removed]",
      "text/plain": [
       "<Figure size 640x480 with 1 Axes>"
      ]
     },
     "metadata": {},
     "output_type": "display_data"
    }
   ],
   "source": [
    "from scipy.stats import binom\n",
    "import matplotlib.pyplot as plt\n",
    "\n",
    "n = 10\n",
    "p = 0.5\n",
    "\n",
    "x = range(n+1)\n",
    "y = [binom.pmf(k, n, p) for k in x]\n",
    "\n",
    "plt.bar(x, y, color = 'maroon')\n",
    "plt.xlabel(\"Number of Successes\")\n",
    "plt.ylabel(\"Probability\")\n",
    "plt.title(\"Binomial Distribution (n=10, p=0.5)\")\n",
    "plt.show()"
   ]
  },
  {
   "cell_type": "markdown",
   "id": "cada39e8",
   "metadata": {},
   "source": [
    "### Video\n",
    "<iframe width=\"462\" height=\"260\" src=\"https://www.youtube.com/embed/Kwq0ulfYAsI\" title=\"The binomial distribution\" frameborder=\"0\" allow=\"accelerometer; autoplay; clipboard-write; encrypted-media; gyroscope; picture-in-picture; web-share\" allowfullscreen></iframe>"
   ]
  },
  {
   "attachments": {},
   "cell_type": "markdown",
   "id": "fd01e795-9576-47ca-81ee-e59fea2a2b00",
   "metadata": {},
   "source": [
    "### Calculating probabilities using the binomial distribution in Python"
   ]
  },
  {
   "cell_type": "code",
   "execution_count": 2,
   "id": "6b5b6fc4-0e84-49ab-817f-6298ca2ba913",
   "metadata": {},
   "outputs": [
    {
     "name": "stdout",
     "output_type": "stream",
     "text": [
      "Probability of getting exactly 7 heads: 0.11718749999999999\n"
     ]
    }
   ],
   "source": [
    "from scipy.stats import binom\n",
    "\n",
    "n = 10\n",
    "p = 0.5\n",
    "k = 7\n",
    "\n",
    "probability = binom.pmf(k, n, p)\n",
    "print(\"Probability of getting exactly 7 heads:\", probability)"
   ]
  },
  {
   "attachments": {},
   "cell_type": "markdown",
   "id": "d46bb8a6-d497-42e4-bb4e-1ec0926e4351",
   "metadata": {},
   "source": [
    "### The Binomial Test\n",
    "The binomial test is a statistical test used to assess whether the observed number of successes significantly deviates from an expected value under the null hypothesis. It is particularly useful for binary data or situations with a fixed number of trials."
   ]
  },
  {
   "cell_type": "markdown",
   "id": "dae97fd5",
   "metadata": {},
   "source": [
    "### Video\n",
    "<iframe width=\"462\" height=\"260\" src=\"https://www.youtube.com/embed/EBb_JZw4SM0\" title=\"The binomial test\" frameborder=\"0\" allow=\"accelerometer; autoplay; clipboard-write; encrypted-media; gyroscope; picture-in-picture; web-share\" allowfullscreen></iframe>"
   ]
  },
  {
   "attachments": {},
   "cell_type": "markdown",
   "id": "162723c3-cbf3-4955-91a0-1f4fcdff6e7c",
   "metadata": {},
   "source": [
    "### Performing the Binomial Test\n",
    "In the binomial test, we specify the null hypothesis (H0) and alternative hypothesis (H1) and compare the observed number of successes to the expected value under H0. The p-value is calculated based on the binomial distribution, and if it falls below a predetermined significance level, we reject the null hypothesis."
   ]
  },
  {
   "cell_type": "code",
   "execution_count": 3,
   "id": "52a76e0c-3e7d-496a-99b3-bb5b11ff62ae",
   "metadata": {
    "tags": []
   },
   "outputs": [
    {
     "name": "stdout",
     "output_type": "stream",
     "text": [
      "p-value: 0.344\n"
     ]
    }
   ],
   "source": [
    "from scipy.stats import binomtest\n",
    "\n",
    "observed_successes = 7\n",
    "total_trials = 10\n",
    "expected_successes = 5\n",
    "\n",
    "results = binomtest(observed_successes, total_trials, expected_successes/total_trials)\n",
    "print(\"p-value:\", round(results.pvalue, 3))"
   ]
  },
  {
   "attachments": {},
   "cell_type": "markdown",
   "id": "6dd29331-92d7-4527-ba56-6f1b282d58b9",
   "metadata": {},
   "source": [
    "## End of chapter problem"
   ]
  },
  {
   "attachments": {},
   "cell_type": "markdown",
   "id": "625f6619-dc14-4f56-8b87-b7bd88e98b8c",
   "metadata": {
    "tags": []
   },
   "source": [
    "In some species of birds, juveniles help other adult birds to raise offspring. Scientists are unsure what the evolutionary advantage of this sort of altruism is in the wild, however, it is postulated that these juveniles are likely to be preferentially helping adults that they are more closely related to (kin selection). To test this, 20 birds that each lived nearby two nests of adults, one with relatives, the other with non-relatives. It was observed that 16 of the birds helped their kin, while 4 helped the non-kin.\n",
    "\n",
    "Is there preferential care? \n",
    "\n",
    "<div style=\"display:flex; justify-content:center;\">\n",
    "    <img src=\"images/crow.jpg\" alt=\"Image\" width=\"400\" height=\"300\" style=\"margin-left: 10px;\">\n",
    "</div>"
   ]
  },
  {
   "cell_type": "code",
   "execution_count": null,
   "id": "00664975-43ef-408f-a6bb-763642eb75d2",
   "metadata": {},
   "outputs": [],
   "source": []
  }
 ],
 "metadata": {
  "kernelspec": {
   "display_name": "Python 3 (ipykernel)",
   "language": "python",
   "name": "python3"
  },
  "language_info": {
   "codemirror_mode": {
    "name": "ipython",
    "version": 3
   },
   "file_extension": ".py",
   "mimetype": "text/x-python",
   "name": "python",
   "nbconvert_exporter": "python",
   "pygments_lexer": "ipython3",
   "version": "3.10.6"
  }
 },
 "nbformat": 4,
 "nbformat_minor": 5
}
