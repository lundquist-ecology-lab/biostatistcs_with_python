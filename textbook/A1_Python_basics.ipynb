{
 "cells": [
  {
   "cell_type": "markdown",
   "id": "16c839a6-f1af-4433-83ab-a7e0b4999cb5",
   "metadata": {},
   "source": [
    "# Python and Jupyter basics"
   ]
  },
  {
   "cell_type": "markdown",
   "id": "e933f81f-2ce2-46e5-bf49-0ee6036b6d16",
   "metadata": {},
   "source": [
    "## Introduction to Python\n",
    "\n",
    "Python is a high-level, interpreted programming language known for its readability and versatility. With its vast ecosystem of scientific computing libraries such as NumPy, SciPy, pandas, and matplotlib, Python is a popular choice for data analysis in diverse fields, including biostatistics.\n",
    "\n",
    "In biostatistics, Python is utilized for data wrangling, statistical analysis, machine learning, and visualization, among other tasks. Whether you're processing large genomic datasets, modeling biological systems, or testing hypotheses with advanced statistical methods, Python offers a suite of tools to efficiently carry out these tasks."
   ]
  },
  {
   "cell_type": "markdown",
   "id": "f17c4ea8-c324-42e9-ac67-8fc59c99cdc5",
   "metadata": {},
   "source": [
    "## Python Syntax Basics\n",
    "\n",
    "Let's take a look at some fundamental Python syntax that you'll use frequently for biostatistics:"
   ]
  },
  {
   "cell_type": "markdown",
   "id": "b860b62a-9c55-402d-ab97-4d77e02687ea",
   "metadata": {},
   "source": [
    "#### Variables and Types: \n",
    "Python has several basic types like integers, floats, booleans, and strings. You can assign values to variables without declaring their type:  "
   ]
  },
  {
   "cell_type": "code",
   "execution_count": 5,
   "id": "52a2eab4-58dc-4af3-950f-39cfe0a84b2b",
   "metadata": {},
   "outputs": [],
   "source": [
    "x = 10  # Integer\n",
    "y = 3.14  # Float\n",
    "s = \"Biostatistics\"  # String\n",
    "b = True  # Boolean"
   ]
  },
  {
   "cell_type": "markdown",
   "id": "dded1b89-78a3-4a01-b90a-c96afbcbf9af",
   "metadata": {},
   "source": [
    "#### Lists and Dictionaries\n",
    "Python includes several compound types, two of which are lists and dictionaries.  "
   ]
  },
  {
   "cell_type": "code",
   "execution_count": 6,
   "id": "72c9c886-567e-476a-9e3e-963b8afe988f",
   "metadata": {},
   "outputs": [],
   "source": [
    "# A list is an ordered collection of values\n",
    "samples = [\"sample1\", \"sample2\", \"sample3\"]\n",
    "\n",
    "# A dictionary is an unordered collection of key-value pairs\n",
    "sample_dict = {\"sample1\": 23, \"sample2\": 45, \"sample3\": 37}"
   ]
  },
  {
   "cell_type": "markdown",
   "id": "3f716315-3050-4fdf-b55c-c4f02fdadca2",
   "metadata": {},
   "source": [
    "#### Control Flow\n",
    "Python uses control flow structures like conditionals and loops:  "
   ]
  },
  {
   "cell_type": "code",
   "execution_count": 7,
   "id": "296a344b-58af-4afd-b34e-ce0ea3d1222a",
   "metadata": {},
   "outputs": [
    {
     "name": "stdout",
     "output_type": "stream",
     "text": [
      "x is greater than 5\n",
      "sample1\n",
      "sample2\n",
      "sample3\n"
     ]
    }
   ],
   "source": [
    "# If-Else Conditional\n",
    "if x > 5:\n",
    "    print(\"x is greater than 5\")\n",
    "else:\n",
    "    print(\"x is less than or equal to 5\")\n",
    "    \n",
    "# For Loop\n",
    "for sample in samples:\n",
    "    print(sample)"
   ]
  },
  {
   "cell_type": "markdown",
   "id": "181ceff1-2fed-45b8-af1b-044ca80b9f13",
   "metadata": {},
   "source": [
    "#### Functions\n",
    "\n",
    "Functions are reusable blocks of code. Python has numerous built-in functions and allows you to define your own:"
   ]
  },
  {
   "cell_type": "code",
   "execution_count": null,
   "id": "8fb0ae1a-f5f8-4b3c-9e95-c67a8df0a915",
   "metadata": {},
   "outputs": [],
   "source": [
    "# Defining a function\n",
    "def square(x):\n",
    "    return x ** 2\n",
    "    \n",
    "# Using a function\n",
    "y = square(5)  # y is now 25"
   ]
  },
  {
   "cell_type": "markdown",
   "id": "ea07ad73-0548-4a12-ad97-6562e4c9c2de",
   "metadata": {},
   "source": [
    "## Introduction to Jupyter Notebook\n",
    "\n",
    "Jupyter Notebook is an open-source web application that enables you to create and share documents containing live Python code, visualizations, and narrative text.\n",
    "\n",
    "Python.GriffyStats.com is an online platform that hosts Jupyter Notebooks, requiring only a login without any installation on your personal computer."
   ]
  },
  {
   "cell_type": "markdown",
   "id": "62758175-9cca-41aa-b9af-906a72e9f703",
   "metadata": {},
   "source": [
    "### Accessing Jupyter Notebook\n",
    "\n",
    "**Note: You will need to sign up for a free GitHub.com account.**\n",
    "\n",
    "Navigate to python.griffystats.com in your web browser and log in with your GitHub credentials. After logging in, you'll access the Jupyter Notebook dashboard, where you can create or open notebooks."
   ]
  },
  {
   "cell_type": "markdown",
   "id": "8314b413-d823-477b-aa02-fb0700d6030c",
   "metadata": {},
   "source": [
    "### Jupyter Notebook Interface\n",
    "\n",
    "A Jupyter Notebook consists of a series of cells, which can be categorized into:\n",
    "\n",
    "1. **Code Cells**: You can write and execute Python code here.\n",
    "2. **Markdown Cells**: These cells allow you to write explanatory text, equations, or add images using Markdown, a lightweight markup language."
   ]
  },
  {
   "cell_type": "markdown",
   "id": "ffb97f42-3fb5-4dc4-8df9-a6aa3687dec8",
   "metadata": {},
   "source": [
    "### Working with Cells\n",
    "\n",
    "In a **Code Cell**, you can write Python code and execute it by hitting Shift+Enter:"
   ]
  },
  {
   "cell_type": "code",
   "execution_count": 8,
   "id": "d5d38807-aea7-4330-800f-fec91d2ded86",
   "metadata": {},
   "outputs": [
    {
     "name": "stdout",
     "output_type": "stream",
     "text": [
      "Welcome to Biostatistics with Python!\n"
     ]
    }
   ],
   "source": [
    "# Python code\n",
    "print(\"Welcome to Biostatistics with Python!\")"
   ]
  },
  {
   "cell_type": "markdown",
   "id": "c0fc5c84-e58c-4deb-9beb-e7f50ee88a4d",
   "metadata": {},
   "source": [
    "A **Markdown Cell** lets you write text, insert images, or write equations in LaTeX. Here's a simple example:"
   ]
  },
  {
   "cell_type": "markdown",
   "id": "e8b59ff7-5439-4825-9f85-732d0b9a9c92",
   "metadata": {},
   "source": [
    "# Welcome to Biostatistics\n",
    "This is a course on **Biostatistics** with *Python*."
   ]
  },
  {
   "cell_type": "code",
   "execution_count": null,
   "id": "35110668-724b-4bf7-8ed3-c702db778d01",
   "metadata": {},
   "outputs": [],
   "source": []
  }
 ],
 "metadata": {
  "kernelspec": {
   "display_name": "Python 3 (ipykernel)",
   "language": "python",
   "name": "python3"
  },
  "language_info": {
   "codemirror_mode": {
    "name": "ipython",
    "version": 3
   },
   "file_extension": ".py",
   "mimetype": "text/x-python",
   "name": "python",
   "nbconvert_exporter": "python",
   "pygments_lexer": "ipython3",
   "version": "3.10.6"
  }
 },
 "nbformat": 4,
 "nbformat_minor": 5
}
