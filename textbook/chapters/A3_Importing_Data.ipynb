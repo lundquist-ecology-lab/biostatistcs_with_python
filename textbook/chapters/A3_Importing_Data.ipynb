{
 "cells": [
  {
   "cell_type": "markdown",
   "id": "a56dd5db-0f87-454b-96ab-d89e8e88a84d",
   "metadata": {},
   "source": [
    "# Appendix 3: Importing and Modifying Data for biostatistics"
   ]
  },
  {
   "cell_type": "markdown",
   "id": "81d2d92e-e6c2-4830-b576-f8c6515b22f1",
   "metadata": {},
   "source": [
    "<div class=\"alert alert-info\">Learning goals</div>\n",
    "\n",
    "1. Import data of different formats into Python using Pandas.\n",
    "2. Identify and handle missing values in a dataset.\n",
    "3. Transform and reshape data to suit the needs of your analysis.\n",
    "4. Understand how to merge multiple datasets into a single, coherent dataset."
   ]
  },
  {
   "cell_type": "markdown",
   "id": "280f41e0-dceb-41ec-a3c9-946cd8b8f67a",
   "metadata": {},
   "source": [
    "## Introduction\n",
    "\n",
    "In the realm of biostatistics, dealing with data is a key part of the process. Often, this data is not collected with the intention of being processed in Python, leading to potential challenges. This chapter provides an overview of importing and modifying data in Python from a biostatistics perspective. We will discuss common methods for importing data, techniques for handling missing values, and ways to transform and reshape your data to suit your analysis."
   ]
  },
  {
   "cell_type": "markdown",
   "id": "30c6031a-6e36-47f8-925a-105639544a9c",
   "metadata": {},
   "source": [
    "Before we begin, ensure you have the following essential Python libraries installed:\n",
    "\n",
    "- Pandas: Provides data structures and data analysis tools.\n",
    "- Numpy: Allows numerical operations on arrays and matrices.\n",
    "- Matplotlib: Facilitates the creation of static, animated, and interactive visualizations in Python.\n",
    "\n",
    "You can install these packages using pip:"
   ]
  },
  {
   "cell_type": "code",
   "execution_count": 17,
   "id": "018bd739-d7ac-4c72-a1cf-6e1774fca046",
   "metadata": {},
   "outputs": [],
   "source": [
    "%%script false --no-raise-error\n",
    "\n",
    "pip install pandas numpy matplotlib"
   ]
  },
  {
   "cell_type": "markdown",
   "id": "736b7049-cfe1-48fa-883b-e64ba316f838",
   "metadata": {},
   "source": [
    "### Importing Data\n",
    "\n",
    "Data in biostatistics can come in various formats such as CSV (Comma-Separated Values), Excel (xls, xlsx), or TSV (Tab-Separated Values). We'll primarily use the Pandas library to read these files into Python:"
   ]
  },
  {
   "cell_type": "code",
   "execution_count": 18,
   "id": "d45e7f2b-461c-4992-b802-42f3f0cdddc1",
   "metadata": {},
   "outputs": [],
   "source": [
    "%%script false --no-raise-error\n",
    "\n",
    "import pandas as pd\n",
    "\n",
    "# Loading a CSV file\n",
    "df_csv = pd.read_csv('filename.csv')\n",
    "\n",
    "# Loading an Excel file\n",
    "df_excel = pd.read_excel('filename.xlsx')\n",
    "\n",
    "# Loading a TSV file\n",
    "df_tsv = pd.read_csv('filename.tsv', sep='\\t')"
   ]
  },
  {
   "cell_type": "markdown",
   "id": "22ae7b1e-7942-4eb5-a192-056a3bfa72e6",
   "metadata": {},
   "source": [
    "### Dealing with Missing Values\n",
    "\n",
    "Real-world datasets often have missing values, and these missing values can lead to misleading results if not handled properly. Let's look at some techniques to handle missing values:"
   ]
  },
  {
   "cell_type": "code",
   "execution_count": 19,
   "id": "ee4e859e-9069-445d-b6bd-6bcf124a2a1d",
   "metadata": {},
   "outputs": [],
   "source": [
    "%%script false --no-raise-error\n",
    "\n",
    "import pandas as pd\n",
    "\n",
    "# Check for missing values\n",
    "print(df_csv.isnull().sum())\n",
    "\n",
    "# Drop rows with missing values\n",
    "df_no_missing = df_csv.dropna()\n",
    "\n",
    "# Fill missing values with a specified value (e.g., mean, median, mode, or a constant value)\n",
    "df_fill_mean = df_csv.fillna(df_csv.mean())"
   ]
  },
  {
   "cell_type": "markdown",
   "id": "d1dfc796-489d-4df2-8a01-247d0901c4bf",
   "metadata": {},
   "source": [
    "### Data Transformation and Reshaping\n",
    "\n",
    "Often, data may not be in a form that is ready for analysis, and you may need to reshape or transform it:"
   ]
  },
  {
   "cell_type": "code",
   "execution_count": 4,
   "id": "dd6da627-96e7-41dd-a64c-bf22a862b730",
   "metadata": {},
   "outputs": [],
   "source": [
    "%%script false --no-raise-error\n",
    "\n",
    "import pandas as pd\n",
    "\n",
    "# Renaming columns\n",
    "df_csv.rename(columns={'OldName1': 'NewName1', 'OldName2': 'NewName2'}, inplace=True)\n",
    "\n",
    "# Converting a continuous variable into a categorical variable\n",
    "bins = [0, 10, 20, 30, 40]\n",
    "labels = ['0-10', '10-20', '20-30', '30-40']\n",
    "df_csv['AgeGroup'] = pd.cut(df_csv['Age'], bins=bins, labels=labels)\n",
    "\n",
    "# Pivoting data (reshaping)\n",
    "df_pivot = df_csv.pivot(index='ColumnNameToIndex', columns='ColumnNameToColumns', values='ColumnNameToValues')\n",
    "\n",
    "# Merging two dataframes\n",
    "df_merge = pd.merge(df_csv1, df_csv2, on='CommonColumnName', how='inner') # Can be 'outer', 'left', 'right'"
   ]
  },
  {
   "cell_type": "markdown",
   "id": "202c59d8-2903-4e72-9be7-a19258054e13",
   "metadata": {},
   "source": [
    "## Conclusion\n",
    "\n",
    "The importance of being able to import, modify, and clean data cannot be understated in biostatistics. It's crucial for researchers and data scientists to familiarize themselves with these techniques to prepare their data correctly for downstream statistical analysis."
   ]
  }
 ],
 "metadata": {
  "kernelspec": {
   "display_name": "Python 3 (ipykernel)",
   "language": "python",
   "name": "python3"
  },
  "language_info": {
   "codemirror_mode": {
    "name": "ipython",
    "version": 3
   },
   "file_extension": ".py",
   "mimetype": "text/x-python",
   "name": "python",
   "nbconvert_exporter": "python",
   "pygments_lexer": "ipython3",
   "version": "3.11.3"
  }
 },
 "nbformat": 4,
 "nbformat_minor": 5
}
