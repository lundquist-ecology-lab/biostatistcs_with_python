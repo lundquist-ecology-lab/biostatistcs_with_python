{
 "cells": [
  {
   "cell_type": "markdown",
   "id": "a4a5ce39-5d2b-4949-8e6d-d3e2b8d82aab",
   "metadata": {
    "tags": []
   },
   "source": [
    "# Appendix 2: Working with Jupyter Notebook"
   ]
  },
  {
   "cell_type": "markdown",
   "id": "2cf118bf-6fb9-4a67-a754-4fd5f12c771e",
   "metadata": {},
   "source": [
    "### 1: Open Jupyter Notebook\n",
    "Launch `python.griffystats.com` in your web browser.\n",
    "\n",
    "Navigate to the desired directory (e.g. \"lessons\") where your notebook is located."
   ]
  },
  {
   "cell_type": "markdown",
   "id": "1c3796d9-5751-4925-932c-94910d65bb23",
   "metadata": {},
   "source": [
    "### 2: Open the Notebook\n",
    "Click on the notebook file with the extension `.ipynb` to open it."
   ]
  },
  {
   "cell_type": "markdown",
   "id": "52991770-f34d-4418-850d-3d6d284b7849",
   "metadata": {},
   "source": [
    "### 3: Save the Notebook\n",
    "Make any desired changes to the notebook.\n",
    "\n",
    "To save the notebook, click on the \"Save\" button in the toolbar or press `Ctrl + S` (Windows/Linux) or `Command + S` (Mac)."
   ]
  },
  {
   "cell_type": "markdown",
   "id": "88311093-e19b-4a55-a5b8-46dd0506f222",
   "metadata": {},
   "source": [
    "### 4: Export the Notebook\n",
    "There are various options to export your notebook, depending on the desired format.\n",
    "\n",
    "Exporting as HTML:\n",
    "\n",
    "- Go to the \"File\" menu.\n",
    "- Select \"Download as\".\n",
    "- Choose \"HTML (.html)\".\n",
    "\n",
    "Exporting as PDF:\n",
    "\n",
    "- Install the necessary dependencies for exporting as PDF, if not already installed. You may need `pandoc` and `TeX` distribution like `MiKTeX` or `TeX Live`.\n",
    "- Go to the \"File\" menu.\n",
    "- Select \"Download as\".\n",
    "- Choose \"PDF via LaTeX (.pdf)\".\n",
    "\n",
    "Exporting as Markdown:\n",
    "\n",
    "- Go to the \"File\" menu.\n",
    "- Select \"Download as\".\n",
    "- Choose \"Markdown (.md)\".\n",
    "\n",
    "Exporting as Python script:\n",
    "\n",
    "- Go to the \"File\" menu.\n",
    "- Select \"Download as\".\n",
    "- Choose \"Python (.py)\".\n",
    "\n",
    "Exporting as other formats:\n",
    "\n",
    "- Jupyter Notebook also supports exporting notebooks to formats such as LaTeX, reStructuredText, executable script, etc. You can explore these options in the \"Download as\" menu."
   ]
  },
  {
   "cell_type": "markdown",
   "id": "e30c5c37-8303-49c9-a504-8fa2596458b1",
   "metadata": {},
   "source": [
    "### 5: Verify and Save the Exported File\n",
    "\n",
    "- After selecting the desired export format, the notebook will be downloaded to your local machine.\n",
    "- Verify that the exported file is saved in the designated location on your computer.\n"
   ]
  },
  {
   "cell_type": "code",
   "execution_count": null,
   "id": "8476f799-134c-47b2-b2d1-eff5c102b484",
   "metadata": {},
   "outputs": [],
   "source": []
  }
 ],
 "metadata": {
  "kernelspec": {
   "display_name": "Python 3 (ipykernel)",
   "language": "python",
   "name": "python3"
  },
  "language_info": {
   "codemirror_mode": {
    "name": "ipython",
    "version": 3
   },
   "file_extension": ".py",
   "mimetype": "text/x-python",
   "name": "python",
   "nbconvert_exporter": "python",
   "pygments_lexer": "ipython3",
   "version": "3.10.6"
  }
 },
 "nbformat": 4,
 "nbformat_minor": 5
}
