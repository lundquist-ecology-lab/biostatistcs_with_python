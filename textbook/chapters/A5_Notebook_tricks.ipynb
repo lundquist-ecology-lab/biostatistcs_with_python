{
 "cells": [
  {
   "cell_type": "markdown",
   "id": "5da3b616-2505-4d3d-89b2-3f65e48172b0",
   "metadata": {},
   "source": [
    "# Appendix 5: Jupyter Notebook tricks"
   ]
  },
  {
   "cell_type": "markdown",
   "id": "1d465aae-e588-4a2f-95cb-7e622ce900c1",
   "metadata": {},
   "source": [
    "### Dealing with misbehaving or non-working code\n",
    "\n",
    "You can add the following code to the beginning of your Python code block to keep the block from being interpreted. You will see this in code blocks in chapters/lessons to example code that does not work without modification."
   ]
  },
  {
   "cell_type": "code",
   "execution_count": null,
   "id": "4be4578f-588b-47d0-be5b-be472cde09c8",
   "metadata": {},
   "outputs": [],
   "source": [
    "%%script false --no-raise-error"
   ]
  }
 ],
 "metadata": {
  "kernelspec": {
   "display_name": "Python 3 (ipykernel)",
   "language": "python",
   "name": "python3"
  },
  "language_info": {
   "codemirror_mode": {
    "name": "ipython",
    "version": 3
   },
   "file_extension": ".py",
   "mimetype": "text/x-python",
   "name": "python",
   "nbconvert_exporter": "python",
   "pygments_lexer": "ipython3",
   "version": "3.10.6"
  }
 },
 "nbformat": 4,
 "nbformat_minor": 5
}
