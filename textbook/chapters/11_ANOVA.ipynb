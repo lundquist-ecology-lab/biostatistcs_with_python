{
 "cells": [
  {
   "cell_type": "markdown",
   "id": "994ba159-d299-4c92-9f54-f06f7a537f3d",
   "metadata": {},
   "source": [
    "# Chapter 11: Analysis of Variance (ANOVA)"
   ]
  },
  {
   "cell_type": "markdown",
   "id": "d206e815-6465-4283-abc2-3b610c3f8e8a",
   "metadata": {},
   "source": [
    "Learning Goals:\n",
    "1. Understand the concept and applications of Analysis of Variance (ANOVA).\n",
    "2. Learn about different types of ANOVA designs.\n",
    "3. Explore the assumptions underlying ANOVA and how to assess them.\n",
    "4. Learn how to perform ANOVA in Python and interpret the results."
   ]
  },
  {
   "cell_type": "markdown",
   "id": "c9dd37a4-8772-44e7-b751-1e9415d02f42",
   "metadata": {},
   "source": [
    "## Introduction\n",
    "Analysis of Variance (ANOVA) is a statistical technique used to compare the means of two or more groups or conditions. It determines whether the variability between group means is larger than the variability within groups."
   ]
  },
  {
   "cell_type": "markdown",
   "id": "533727ee-33fa-460c-bcc3-46ea09e6274e",
   "metadata": {},
   "source": [
    "### Applications of ANOVA\n",
    "ANOVA is commonly used in various scenarios, including:\n",
    "- Comparing means across multiple treatment groups.\n",
    "- Investigating the effects of categorical and continuous variables.\n",
    "- Assessing interactions between variables."
   ]
  },
  {
   "cell_type": "markdown",
   "id": "c936d20b-fc67-4080-9482-34617737996d",
   "metadata": {},
   "source": [
    "### One-Way ANOVA\n",
    "The one-way ANOVA compares the means of two or more independent groups or conditions.\n",
    "\n",
    "$H_0: \\mu_1 = \\mu_2 = \\mu_i$\n",
    "\n",
    "$H_A: \\text{At least one} \\mu_i \\text{is different}$\n",
    "\n",
    "\n",
    "$F = \\frac{MS_{groups}}{MS_{error}}$"
   ]
  },
  {
   "cell_type": "markdown",
   "id": "1ae815f6-6d06-4441-9039-9ae9f9d6ddd1",
   "metadata": {},
   "source": [
    "## Calculate F value"
   ]
  },
  {
   "cell_type": "markdown",
   "id": "ea14f3cf-67e1-4175-a858-04b217dfb3fc",
   "metadata": {},
   "source": [
    "#### Partition Sum or squares\n",
    "\n",
    "$SS_{total} = SS_{error} + SS_{groups}$\n",
    "\n",
    "n = sample size of $y_i$\n",
    "\n",
    "N = total number of observations\n",
    "\n",
    "Grand mean:\n",
    "$\\bar{Y} = \\frac{\\sum{n_i}{\\bar{y}_i}}{N}$\n",
    "\n",
    "where\n",
    "\n",
    "$N = \\sum(n_i)$\n",
    "\n",
    "$SS_{groups} = \\sum{n_i(\\bar{y}_i - \\bar{Y})^2}$\n",
    "\n",
    "$SS_{error} = \\sum{s^{2}_{i}(n_i - 1)}$"
   ]
  },
  {
   "cell_type": "markdown",
   "id": "5b9f4eb7-2794-445f-b9c3-778e2412a040",
   "metadata": {},
   "source": [
    "#### Calculate mean squares\n",
    "\n",
    "k = number of groups\n",
    "\n",
    "$MS_{groups} = \\frac{SS_{groups}}{df_{groups}}$\n",
    "\n",
    "where\n",
    "\n",
    "$df_{groups} = k - 1$\n",
    "\n",
    "$MS_{error} = \\frac{SS_{error}}{df_{error}}$\n",
    "\n",
    "where\n",
    "\n",
    "$df_{error} = N - k$"
   ]
  },
  {
   "cell_type": "markdown",
   "id": "f33afe0c-dfc2-41c7-9bf5-c8815af7ab5f",
   "metadata": {},
   "source": [
    "### ANOVA table\n",
    "\n",
    "| Source of variance | Sum of squares | df                     | Mean squares | F                        | P-value |\n",
    "|--------------------|----------------|------------------------|--------------|--------------------------|---------|\n",
    "| Groups             | SS<sub>groups</sub> | groups – 1             | MS<sub>groups</sub> | F = MS<sub>groups</sub> / MS<sub>error</sub> | P-value |\n",
    "| Error              | SS<sub>error</sub>  | observations – groups  | MS<sub>error</sub>  |                            |         |\n",
    "| Total              | SS<sub>total</sub>  | df<sub>error</sub> + df<sub>groups</sub> |              |                            |         |\n"
   ]
  },
  {
   "cell_type": "markdown",
   "id": "4756d2b8-786b-4432-904c-9d973f6ae918",
   "metadata": {},
   "source": [
    "### Two-Way ANOVA\n",
    "The two-way ANOVA compares the means across two categorical independent variables (factors) and their interactions."
   ]
  },
  {
   "cell_type": "markdown",
   "id": "44ef89a8-17c4-4c7e-b98c-4144ff0169d5",
   "metadata": {},
   "source": [
    "### Assumptions of ANOVA\n",
    "Assumption of Normality\n",
    "- Visual Assessment: Q-Q plots, histograms.\n",
    "- Statistical Tests: Shapiro-Wilk test, Anderson-Darling test.\n",
    "\n",
    "Assumption of Homogeneity of Variances\n",
    "- Visual Assessment: Box plots, Levene's test.\n",
    "- Statistical Test: Levene's test."
   ]
  },
  {
   "cell_type": "markdown",
   "id": "92605dee-4cfc-42b4-b9d0-85ea9ff3f4fc",
   "metadata": {},
   "source": [
    "### Performing ANOVA in Python"
   ]
  },
  {
   "cell_type": "code",
   "execution_count": 13,
   "id": "e2bdb844-5d3e-45fd-8c3a-75a9d071f7a3",
   "metadata": {
    "tags": []
   },
   "outputs": [
    {
     "name": "stdout",
     "output_type": "stream",
     "text": [
      "One-Way ANOVA Results:\n",
      "F-statistic: 2.24\n",
      "p-value: 0.15\n"
     ]
    }
   ],
   "source": [
    "from scipy.stats import f_oneway\n",
    "\n",
    "# Example data (replace with your own data)\n",
    "group1 = [5, 6, 8, 7, 9]\n",
    "group2 = [4, 7, 6, 9, 8]\n",
    "group3 = [2, 4, 6, 5, 7]\n",
    "\n",
    "# Perform one-way ANOVA\n",
    "f_statistic, p_value = f_oneway(group1, group2, group3)\n",
    "print(\"One-Way ANOVA Results:\")\n",
    "print(\"F-statistic:\", round(f_statistic,2))\n",
    "print(\"p-value:\", round(p_value, 2))"
   ]
  },
  {
   "cell_type": "code",
   "execution_count": 14,
   "id": "5dfb0b65-50de-40eb-af44-8882ce8a0dea",
   "metadata": {
    "tags": []
   },
   "outputs": [
    {
     "name": "stdout",
     "output_type": "stream",
     "text": [
      "Two-Way ANOVA Results:\n",
      "           df  sum_sq  mean_sq      F  PR(>F)\n",
      "A         1.0     8.0      8.0  0.941   0.387\n",
      "B         1.0     0.0      0.0  0.000   1.000\n",
      "A:B       1.0     0.0      0.0  0.000   1.000\n",
      "Residual  4.0    34.0      8.5    NaN     NaN\n"
     ]
    }
   ],
   "source": [
    "import statsmodels.api as sm\n",
    "import pandas as pd\n",
    "from statsmodels.formula.api import ols\n",
    "\n",
    "# Example data (replace with your own data)\n",
    "data = {'A': ['A1', 'A2', 'A1', 'A2', 'A1', 'A2', 'A1', 'A2'],\n",
    "        'B': ['B1', 'B1', 'B2', 'B2', 'B1', 'B1', 'B2', 'B2'],\n",
    "        'Value': [5, 7, 4, 6, 8, 10, 9, 11]}\n",
    "\n",
    "# Create DataFrame\n",
    "df = pd.DataFrame(data)\n",
    "\n",
    "# Perform two-way ANOVA\n",
    "model = ols('Value ~ A + B + A:B', data=df).fit()\n",
    "anova_table = round(sm.stats.anova_lm(model), 3)\n",
    "print(\"Two-Way ANOVA Results:\")\n",
    "print(anova_table)"
   ]
  },
  {
   "cell_type": "markdown",
   "id": "1ae1beec-aaf0-4aba-a14d-e0efc5b7a4cb",
   "metadata": {},
   "source": [
    "### Interpreting ANOVA Results\n",
    "\n",
    "One-Way ANOVA\n",
    "- Evaluate the significance level (p-value).\n",
    "- If the p-value is below the predetermined significance level (e.g., 0.05), reject the null hypothesis and conclude that there are significant differences between the group means.\n",
    "\n",
    "Two-Way ANOVA\n",
    "- Examine the main effects of each factor.\n",
    "- Assess the interaction effect between the factors.\n",
    "- Consider the significance levels (p-values) to determine the presence of significant effects."
   ]
  },
  {
   "cell_type": "markdown",
   "id": "c643ef14-8980-416e-926f-cd494b0e0bf5",
   "metadata": {},
   "source": [
    "## End of chapter question"
   ]
  },
  {
   "cell_type": "markdown",
   "id": "861f93b6-fe5b-462c-83ed-48de050fc7a6",
   "metadata": {},
   "source": [
    "Using the Palmer Penguin data set, compare the weights of female penguins of all three species using an ANOVA."
   ]
  },
  {
   "cell_type": "code",
   "execution_count": null,
   "id": "1414fd53-21b4-439e-8533-d7b3e3694568",
   "metadata": {},
   "outputs": [],
   "source": []
  }
 ],
 "metadata": {
  "kernelspec": {
   "display_name": "Python 3 (ipykernel)",
   "language": "python",
   "name": "python3"
  },
  "language_info": {
   "codemirror_mode": {
    "name": "ipython",
    "version": 3
   },
   "file_extension": ".py",
   "mimetype": "text/x-python",
   "name": "python",
   "nbconvert_exporter": "python",
   "pygments_lexer": "ipython3",
   "version": "3.10.6"
  }
 },
 "nbformat": 4,
 "nbformat_minor": 5
}
