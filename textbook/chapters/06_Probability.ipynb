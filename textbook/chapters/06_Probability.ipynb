{
 "cells": [
  {
   "attachments": {},
   "cell_type": "markdown",
   "id": "cd40a793-6fd2-4639-8dae-dba603639ce3",
   "metadata": {},
   "source": [
    "# Chapter 6: Basic probability and Bayes' Theorem"
   ]
  },
  {
   "attachments": {},
   "cell_type": "markdown",
   "id": "c270a6c5-ea0f-49a5-9122-88c59a1709cd",
   "metadata": {},
   "source": [
    "<div class=\"alert alert-info\">Learning Goals:</div>\n",
    "\n",
    "1. Understand the fundamental concepts of probability theory.\n",
    "2. Learn the principles of addition and multiplication in probability calculations.\n",
    "3. Explore conditional probability and its application in real-world scenarios.\n",
    "4. Introduce Bayes' Theorem and its role in updating probabilities."
   ]
  },
  {
   "attachments": {},
   "cell_type": "markdown",
   "id": "8e21af41-5a34-4415-a9cc-6d29a661cf4b",
   "metadata": {},
   "source": [
    "## Introduction\n",
    "Probability is a mathematical framework for quantifying uncertainty. It measures the likelihood of events occurring and provides a foundation for making informed decisions based on available information.\n",
    "\n",
    "- Sample Space: The set of all possible outcomes of a random experiment.\n",
    "- Event: A subset of the sample space representing a particular outcome or a combination of outcomes.\n",
    "- Probability of an Event: A numerical value assigned to an event, ranging from 0 to 1, representing the likelihood of that event occurring."
   ]
  },
  {
   "attachments": {},
   "cell_type": "markdown",
   "id": "4a6820de-436b-4054-a305-bdfff43af290",
   "metadata": {},
   "source": [
    "### Probability symbology\n",
    "P(A): Represents the probability of an event A occurring. For example, P(Head) represents the probability of getting a head in a coin toss.\n",
    "\n",
    "P(A | B): Denotes the conditional probability of event A occurring given that event B has already occurred. For example, P(Rain | Cloudy) represents the probability of rain given that it is already cloudy.\n",
    "\n",
    "P(A ∩ B) or P(A and B): Represents the probability of both events A and B occurring simultaneously. This is called the intersection of events A and B.\n",
    "\n",
    "P(A ∪ B) or P(A or B): Denotes the probability of either event A or event B or both occurring. This is called the union of events A and B.\n",
    "\n",
    "P(A') or P(not A): Represents the probability of the complement of event A, i.e., the event A not occurring.\n",
    "\n",
    "P(A,B): Denotes the joint probability of events A and B occurring together."
   ]
  },
  {
   "cell_type": "markdown",
   "id": "c49f93e1",
   "metadata": {},
   "source": [
    "### Video\n",
    "<iframe width=\"462\" height=\"260\" src=\"https://www.youtube.com/embed/zXfVPKGLGQo\" title=\"The basics of probability\" frameborder=\"0\" allow=\"accelerometer; autoplay; clipboard-write; encrypted-media; gyroscope; picture-in-picture; web-share\" allowfullscreen></iframe>"
   ]
  },
  {
   "attachments": {},
   "cell_type": "markdown",
   "id": "f02ccf6b-a8c6-4d37-9c12-b3a607b886a7",
   "metadata": {},
   "source": [
    "### Addition Rule\n",
    "The addition rule states that the probability of the union of two events A and B is given by:\n",
    "\n",
    "$$P(A ∪ B) = P(A) + P(B) - P(A ∩ B)$$\n",
    "\n",
    "Example: \n",
    "Consider rolling a fair six-sided die. Let event A be rolling an even number (2, 4, or 6) and event B be rolling a number greater than 4 (5 or 6). The probability of event A is 3/6 (since there are three even numbers on the die), the probability of event B is 2/6, and the probability of their intersection is 1/6 (only number 6 satisfies both events). Using the addition rule, we can calculate P(A ∪ B) as (3/6) + (2/6) - (1/6) = 4/6 = 2/3."
   ]
  },
  {
   "cell_type": "markdown",
   "id": "67b22717",
   "metadata": {},
   "source": [
    "### Video\n",
    "<iframe width=\"462\" height=\"260\" src=\"https://www.youtube.com/embed/qMl5pixCCns\" title=\"General addition principle in probability\" frameborder=\"0\" allow=\"accelerometer; autoplay; clipboard-write; encrypted-media; gyroscope; picture-in-picture; web-share\" allowfullscreen></iframe>"
   ]
  },
  {
   "attachments": {},
   "cell_type": "markdown",
   "id": "f350efa3-d6ee-4d0c-97e5-397674623c99",
   "metadata": {},
   "source": [
    "### Multiplication Rule\n",
    "The multiplication rule states that the probability of the intersection of two independent events A and B is given by:\n",
    "\n",
    "$$P(A ∩ B) = P(A) × P(B)$$\n",
    "\n",
    "Example:\n",
    "Consider flipping a fair coin twice. Let event A be obtaining heads on the first flip, and event B be obtaining tails on the second flip. The probability of event A is 1/2 (since there are two equally likely outcomes: heads or tails), and the probability of event B is also 1/2. Since the flips are independent, we can calculate P(A ∩ B) as (1/2) × (1/2) = 1/4.\n",
    "\n",
    "Probability trees (like the one below from [Openstax.org](https://openstax.org/books/introductory-statistics/pages/3-5-tree-and-venn-diagrams)) can be used to map out complex strings of probabilistic events.\n",
    "\n",
    "<div style=\"display:flex; justify-content:center;\">\n",
    "    <img src=\"../images/tree.jpg\" alt=\"Image\" width=\"400\" height=\"300\" style=\"margin-left: 10px;\">\n",
    "</div>"
   ]
  },
  {
   "cell_type": "markdown",
   "id": "374357a9",
   "metadata": {},
   "source": [
    "### Video\n",
    "\n",
    "<iframe width=\"462\" height=\"260\" src=\"https://www.youtube.com/embed/FuDxieUwusI\" title=\"The multiplication principle in probability\" frameborder=\"0\" allow=\"accelerometer; autoplay; clipboard-write; encrypted-media; gyroscope; picture-in-picture; web-share\" allowfullscreen></iframe>"
   ]
  },
  {
   "attachments": {},
   "cell_type": "markdown",
   "id": "0afce200-9ae2-4781-ab40-ab12a75eac23",
   "metadata": {},
   "source": [
    "### Conditional Probability\n",
    "Conditional probability measures the probability of an event A occurring given that event B has already occurred. It is denoted as P(A|B) and calculated as:\n",
    "$$P(A|B) = P(A ∩ B) / P(B)$$\n",
    "\n",
    "Example:\n",
    "Consider drawing two cards from a standard deck of 52 playing cards without replacement. Let event A be drawing a heart on the first card, and event B be drawing a heart on the second card. The probability of event A is 13/52 (since there are 13 hearts in a deck), and after drawing one heart, there are 12 hearts remaining out of the remaining 51 cards. Thus, the probability of event B given event A has occurred is 12/51. Therefore, P(A|B) = (13/52) × (12/51) = 1/17."
   ]
  },
  {
   "attachments": {},
   "cell_type": "markdown",
   "id": "1f17cb79-f66c-4bb4-983d-78f6defb96dd",
   "metadata": {},
   "source": [
    "### Bayes' Theorem\n",
    "Bayes' Theorem allows us to update the probability of an event based on new evidence. It is stated as follows:\n",
    "\n",
    "$$P(A|B) = \\frac{P(B|A) × P(A)}{P(B)}$$\n",
    "\n",
    "Example:\n",
    "Consider a medical test for a rare disease, where only 1% of the population is affected. Let event A be having the disease, and event B be testing positive for the disease. Suppose the test is 95% accurate, meaning P(B|A) = 0.95, and the probability of having the disease P(A) = 0.01. If a randomly selected individual tests positive, we can calculate P(A|B) using Bayes' Theorem.\n",
    "\n",
    "$$P(B) = P(B|A) × P(A) + P(B|not A) × P(not A)= (0.95 × 0.01) + (0.05 × 0.99) ≈ 0.0595$$\n",
    "\n",
    "Now, applying Bayes' Theorem:\n",
    "\n",
    "$$P(A|B) = \\frac{(P(B|A) × P(A))}{P(B)} = \\frac{(0.95 × 0.01)}{0.0595} ≈ 0.159$$\n",
    "\n",
    "The implication of the result obtained using Bayes' Theorem in the given example is that even if an individual tests positive for a rare disease with a test that has a high accuracy rate (95% in this case), the probability of actually having the disease is relatively low (approximately 15.9% or 0.159).\n",
    "\n",
    "This implies that a positive test result should not be interpreted as a definitive confirmation of the disease. Instead, further investigation, such as additional tests or medical evaluation, should be considered to confirm the diagnosis. In the context of rare diseases, false positives can be more common due to the low prevalence of the condition in the population. This phenomenon, known as the \"base rate fallacy,\" emphasizes the importance of considering the prior probability (prevalence) of the disease when interpreting test results.\n",
    "\n",
    "The implication of this result is that caution should be exercised in making decisions based solely on the outcome of a single test. Proper consideration of the accuracy of the test, as well as the prevalence of the disease in the population, is crucial to avoid misdiagnosis or unnecessary treatments. It highlights the need for a comprehensive approach that combines multiple pieces of information, including clinical evaluation and other diagnostic tools, to make informed decisions regarding an individual's health."
   ]
  },
  {
   "cell_type": "markdown",
   "id": "b13a24c6",
   "metadata": {},
   "source": [
    "### Video\n",
    "<iframe width=\"462\" height=\"260\" src=\"https://www.youtube.com/embed/ZqVAppzG3wA\" title=\"Utilizing Bayes&#39; Theorem\" frameborder=\"0\" allow=\"accelerometer; autoplay; clipboard-write; encrypted-media; gyroscope; picture-in-picture; web-share\" allowfullscreen></iframe>"
   ]
  },
  {
   "attachments": {},
   "cell_type": "markdown",
   "id": "576393aa-2dc3-462f-8b4e-399b08e1b4b2",
   "metadata": {},
   "source": [
    "### Application of Probability Concepts\n",
    "- Medical Testing: Using conditional probability to interpret the accuracy of medical tests. For example, assessing the probability of having a disease given a positive test result.\n",
    "- Risk Assessment: Assessing the likelihood of certain events based on historical data. For instance, calculating the probability of an accident given weather conditions.\n",
    "- Decision Making: Using probabilities to make optimal decisions under uncertainty. For instance, calculating the expected value to choose the most favorable option."
   ]
  },
  {
   "attachments": {},
   "cell_type": "markdown",
   "id": "1901f387-70c2-48c8-9c05-a0eec4ac94ce",
   "metadata": {},
   "source": [
    "## End of chapter problems"
   ]
  },
  {
   "attachments": {},
   "cell_type": "markdown",
   "id": "ac080093-fd0a-4c0e-873c-ed8b8909002b",
   "metadata": {},
   "source": [
    "1. Imagine that you have a population of 100 cats, 40 that are black with long fur, 30 that are white with short fur, 10 that are black with short fur, and 20 that are white with long fur. \n",
    "\n",
    "- Are \"black\" and \"long fur\" mutually exclusive traits for this population of cats?  \n",
    "- Are \"white\" and \"short fur\" independent traits for this population of cats?\n",
    "\n",
    "<div style=\"display:flex; justify-content:center;\">\n",
    "    <img src=\"../images/cats.jpg\" alt=\"Image\" width=\"400\" height=\"300\" style=\"margin-left: 10px;\">\n",
    "</div>"
   ]
  },
  {
   "attachments": {},
   "cell_type": "markdown",
   "id": "e5476610-befd-452b-abfc-a809f0cc0b1d",
   "metadata": {},
   "source": [
    "2. Consider a deck of cards\n",
    "- What is the probability of drawing a king of any suit?\n",
    "- What is the probability of drawing a face card that is also a spade?\n",
    "- What is the probability of drawing a card without a number on it?\n",
    "- What is the probability of drawing an ace? \n",
    "- What is the probability of drawing a red ace?\n",
    "\n",
    "<div style=\"display:flex; justify-content:center;\">\n",
    "    <img src=\"../images/cards.jpg\" alt=\"Image\" width=\"400\" height=\"300\" style=\"margin-left: 10px;\">\n",
    "</div>"
   ]
  },
  {
   "attachments": {},
   "cell_type": "markdown",
   "id": "f9655bd9-afb6-4487-a696-71839790e8c4",
   "metadata": {},
   "source": [
    "3. When asked about their thoughts on the movie the Batman, \n",
    "20% of movie-goers said that it was \"excellent\", \n",
    "10% said that it was \"pretty good\",\" 53% were \"indifferent,\" \n",
    "16% said that \"it was pretty bad\" and 1% said it was \"especially bad\". \n",
    "Only one answer per movie-goer was allowed.\n",
    "\n",
    "- Are these five possible answers mutually exclusive? Explain.\n",
    "-  What is the probability that a movie-goer had a positive review of this movie?\n",
    "- What is the probability that a movie-goer would review the movie as anything other than especially bad?\n",
    "\n",
    "<div style=\"display:flex; justify-content:center;\">\n",
    "    <img src=\"../images/batman.jpg\" alt=\"Image\" width=\"400\" height=\"300\" style=\"margin-left: 10px;\">\n",
    "</div>\n"
   ]
  },
  {
   "attachments": {},
   "cell_type": "markdown",
   "id": "52a7296f-e794-44ea-a779-32a6f7b3b236",
   "metadata": {},
   "source": [
    "4. In a population of individuals, 45% are coffee drinkers. Suppose that coffee drinkers have a probability of 35% to develop insomnia during their lifetime. In contrast, non-coffee drinkers have a 10% lifetime chance of developing insomnia.\n",
    "\n",
    "- What is the conditional probability of an individual from this population developing insomnia, given that they are a coffee drinker?\n",
    "- Calculate the probability that a member of this population both drinks coffee and eventually develops insomnia.\n",
    "- Using the general multiplication rule, calculate the probability that a member of this population both does not drink coffee and never develops insomnia.\n",
    "- Calculate the probability that a person in this population would develop insomnia in their lifetime. \n",
    "- Use Bayes' theorem to calculate the probability that a person from this population drank coffee, given that they eventually developed insomnia.\n",
    "\n",
    "<div style=\"display:flex; justify-content:center;\">\n",
    "    <img src=\"../images/coffee.jpg\" alt=\"Image\" width=\"400\" height=\"300\" style=\"margin-left: 10px;\">\n",
    "</div>"
   ]
  }
 ],
 "metadata": {
  "kernelspec": {
   "display_name": "Python 3 (ipykernel)",
   "language": "python",
   "name": "python3"
  },
  "language_info": {
   "codemirror_mode": {
    "name": "ipython",
    "version": 3
   },
   "file_extension": ".py",
   "mimetype": "text/x-python",
   "name": "python",
   "nbconvert_exporter": "python",
   "pygments_lexer": "ipython3",
   "version": "3.10.6"
  }
 },
 "nbformat": 4,
 "nbformat_minor": 5
}
