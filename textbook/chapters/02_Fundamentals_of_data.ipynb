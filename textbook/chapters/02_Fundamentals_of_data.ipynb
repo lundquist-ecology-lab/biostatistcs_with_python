{
 "cells": [
  {
   "attachments": {},
   "cell_type": "markdown",
   "id": "05a9ab3b-f44f-4941-8e6a-7225c88a9f63",
   "metadata": {},
   "source": [
    "# Chapter 2: Fundamentals of Data in Scientific Research: Variables, Collection, and Bias"
   ]
  },
  {
   "cell_type": "code",
   "execution_count": 3,
   "id": "951339dd",
   "metadata": {},
   "outputs": [],
   "source": [
    "from ipywidgets import widgets\n",
    "from ipywidgets import Layout, Box, GridBox\n",
    "from IPython.display import display\n",
    "import os\n",
    "import sys\n",
    "\n",
    "notebook_dir = os.path.dirname(os.path.abspath(\"\"))\n",
    "module_dir = os.path.join(notebook_dir, \"interactives/chapter_2\")\n",
    "sys.path.append(module_dir)"
   ]
  },
  {
   "attachments": {},
   "cell_type": "markdown",
   "id": "b7456dc1-bef6-45d0-995e-b94ed56f1425",
   "metadata": {},
   "source": [
    "<div class=\"alert alert-info\">Learning goals</div>\n",
    "\n",
    "1. Understand and identify the different types of variables.\n",
    "2. Understand the different methods of data collection and their respective benefits and limitations.\n",
    "3. Distinguish between population parameters and sample estimates.\n",
    "4. Understand the implications of sampling error and bias on the quality of data and how to mitigate them."
   ]
  },
  {
   "attachments": {},
   "cell_type": "markdown",
   "id": "e2760cf7-4c0b-4f49-ad39-f5b9fdabdb80",
   "metadata": {},
   "source": [
    "## Introduction\n",
    "\n",
    "In scientific research, the power of inquiry is inextricably linked with the data we gather. Data, or information collected for reference or analysis, is the cornerstone that enables scientists to generate new knowledge and insight. This chapter will guide you through the essentials of data, the different types of variables, how data is collected, and the key considerations when dealing with population and sample data."
   ]
  },
  {
   "attachments": {},
   "cell_type": "markdown",
   "id": "6a6762be-ab29-4afa-984c-bd6cfa549dd4",
   "metadata": {
    "jp-MarkdownHeadingCollapsed": true,
    "tags": []
   },
   "source": [
    "### Types of Variables\n",
    "\n",
    "Understanding the types of data, or variables, is the first step in effective data analysis. Variables can broadly be classified as numerical and categorical.\n",
    "\n",
    "1. **Numerical variables** represent measurements or counts and can be subdivided into two types:\n",
    "    - **Discrete:** These variables take on only certain values within a given range, such as the number of petals on a flower or the number of cells in a tissue sample.\n",
    "    - **Continuous:** These variables can take on any value within a range, like the weight of an organism or the pH level of a solution.\n",
    "<div style=\"display:flex; justify-content:center;\">\n",
    "    <img src=\"../images/flower1.jpg\" alt=\"Image\" width=\"400\" height=\"300\" style=\"margin-left: 10px;\">\n",
    "</div>"
   ]
  },
  {
   "cell_type": "code",
   "execution_count": 8,
   "id": "31214e86",
   "metadata": {},
   "outputs": [
    {
     "data": {
      "application/vnd.jupyter.widget-view+json": {
       "model_id": "23f50313effb40efa95259af5edfcef9",
       "version_major": 2,
       "version_minor": 0
      },
      "text/plain": [
       "Box(children=(Label(value='temperature of a room'), Dropdown(layout=Layout(width='300px'), options=('discrete'…"
      ]
     },
     "metadata": {},
     "output_type": "display_data"
    },
    {
     "data": {
      "application/vnd.jupyter.widget-view+json": {
       "model_id": "b1cd883c8f0f4730af20e8232602e356",
       "version_major": 2,
       "version_minor": 0
      },
      "text/plain": [
       "Box(children=(Label(value='number of pets owned'), Dropdown(layout=Layout(width='300px'), options=('discrete',…"
      ]
     },
     "metadata": {},
     "output_type": "display_data"
    },
    {
     "data": {
      "application/vnd.jupyter.widget-view+json": {
       "model_id": "26b5895df5bc43ebb012eb08f1fdb3b5",
       "version_major": 2,
       "version_minor": 0
      },
      "text/plain": [
       "Box(children=(Label(value='number of students in a class'), Dropdown(layout=Layout(width='300px'), options=('d…"
      ]
     },
     "metadata": {},
     "output_type": "display_data"
    },
    {
     "data": {
      "application/vnd.jupyter.widget-view+json": {
       "model_id": "837cc5fbcfca4c82ab648b3a8a39dc46",
       "version_major": 2,
       "version_minor": 0
      },
      "text/plain": [
       "Box(children=(Label(value='area of a shape'), Dropdown(layout=Layout(width='300px'), options=('discrete', 'con…"
      ]
     },
     "metadata": {},
     "output_type": "display_data"
    },
    {
     "data": {
      "application/vnd.jupyter.widget-view+json": {
       "model_id": "f7231b10ec5540d4abe1eb47dee65eae",
       "version_major": 2,
       "version_minor": 0
      },
      "text/plain": [
       "Box(children=(Label(value='number of legs on an insect'), Dropdown(layout=Layout(width='300px'), options=('dis…"
      ]
     },
     "metadata": {},
     "output_type": "display_data"
    },
    {
     "data": {
      "application/vnd.jupyter.widget-view+json": {
       "model_id": "771be0576e9c4b43b2ca6e1e4e2e33d3",
       "version_major": 2,
       "version_minor": 0
      },
      "text/plain": [
       "Box(children=(Label(value='amount of rainfall'), Dropdown(layout=Layout(width='300px'), options=('discrete', '…"
      ]
     },
     "metadata": {},
     "output_type": "display_data"
    },
    {
     "data": {
      "application/vnd.jupyter.widget-view+json": {
       "model_id": "fe15eae2bd2e414c8a1f78a23470387a",
       "version_major": 2,
       "version_minor": 0
      },
      "text/plain": [
       "Box(children=(Label(value='speed of a car'), Dropdown(layout=Layout(width='300px'), options=('discrete', 'cont…"
      ]
     },
     "metadata": {},
     "output_type": "display_data"
    },
    {
     "data": {
      "application/vnd.jupyter.widget-view+json": {
       "model_id": "0b7cf445872b4feeb5fc9792cb6f2137",
       "version_major": 2,
       "version_minor": 0
      },
      "text/plain": [
       "Box(children=(Label(value='length of a rope'), Dropdown(layout=Layout(width='300px'), options=('discrete', 'co…"
      ]
     },
     "metadata": {},
     "output_type": "display_data"
    },
    {
     "data": {
      "application/vnd.jupyter.widget-view+json": {
       "model_id": "da28f85a0ae04c378a6cf150c14a95e5",
       "version_major": 2,
       "version_minor": 0
      },
      "text/plain": [
       "Box(children=(Label(value='number of siblings'), Dropdown(layout=Layout(width='300px'), options=('discrete', '…"
      ]
     },
     "metadata": {},
     "output_type": "display_data"
    },
    {
     "data": {
      "application/vnd.jupyter.widget-view+json": {
       "model_id": "eac2dc33614d457494a73b6ab25c6926",
       "version_major": 2,
       "version_minor": 0
      },
      "text/plain": [
       "Box(children=(Label(value='number of children in a family'), Dropdown(layout=Layout(width='300px'), options=('…"
      ]
     },
     "metadata": {},
     "output_type": "display_data"
    },
    {
     "data": {
      "application/vnd.jupyter.widget-view+json": {
       "model_id": "8c60e5cc66ea4366a28428bb1557b378",
       "version_major": 2,
       "version_minor": 0
      },
      "text/plain": [
       "Button(description='Check Answers', style=ButtonStyle())"
      ]
     },
     "metadata": {},
     "output_type": "display_data"
    },
    {
     "name": "stdout",
     "output_type": "stream",
     "text": [
      "Correct! 'number of coins in a jar' is discrete data.\n",
      "Correct! 'number of floors in a building' is discrete data.\n",
      "Correct! 'number of doors in a room' is discrete data.\n",
      "Incorrect. 'area of a shape' is continuous data, not discrete data.\n",
      "Incorrect. 'length of a rope' is continuous data, not discrete data.\n",
      "Correct! 'number of books on a shelf' is discrete data.\n",
      "Incorrect. 'distance between two cities' is continuous data, not discrete data.\n",
      "Correct! 'number of siblings' is discrete data.\n",
      "Correct! 'number of children in a family' is discrete data.\n",
      "Correct! 'number of legs on an insect' is discrete data.\n",
      "\n",
      "You got 7 out of 10 correct.\n"
     ]
    }
   ],
   "source": [
    "import numerical_var\n",
    "\n",
    "examples = numerical_var.generate_examples()\n",
    "user_answers = []\n",
    "\n",
    "for i, example in enumerate(examples):\n",
    "    dropdown_layout = Layout(width='300px')  # Adjust the width as needed\n",
    "    dropdown = widgets.Dropdown(\n",
    "        options=['discrete', 'continuous'],\n",
    "        disabled=False,\n",
    "        layout=dropdown_layout\n",
    "    )\n",
    "    example_label = widgets.Label(value=example)\n",
    "    example_box = Box([example_label, dropdown], layout=Layout(display='flex', align_items='center'))\n",
    "    display(example_box)\n",
    "    user_answers.append(dropdown)\n",
    "\n",
    "check_code = widgets.Button(description=\"Check Answers\")\n",
    "display(check_code)\n",
    "\n",
    "def check_answers_wrapper(value):\n",
    "    user_selections = [answer.value for answer in user_answers]\n",
    "    numerical_var.check_answers(user_selections)\n",
    "\n",
    "check_code.on_click(check_answers_wrapper)"
   ]
  },
  {
   "cell_type": "markdown",
   "id": "6ea7b603",
   "metadata": {},
   "source": [
    "2. **Categorical variables** represent qualitative data and identify a particular group or category to which data points belong. Examples include the species of a plant, the type of a disease, or the color of a bird's feathers. We define each value factor (e.g., blue, green, red) as **level** or a **group**.\n",
    "\n",
    "<div style=\"display:flex; justify-content:center;\">\n",
    "    <img src=\"../images/cardinal.jpg\" alt=\"Image\" width=\"400\" height=\"300\" style=\"margin-left: 10px;\">\n",
    "</div>\n"
   ]
  },
  {
   "attachments": {},
   "cell_type": "markdown",
   "id": "0f165031-9955-4f10-85b9-de33e2687831",
   "metadata": {},
   "source": [
    "### Data Collection Methods\n",
    "\n",
    "Collecting accurate and relevant data is critical for scientific investigations. The two primary study designs for data collection are experimental and observational studies:\n",
    "\n",
    "1. **Experimental studies** involve designing an experiment with specific treatments and controls for outside variables. This design is useful for determining cause and effect relationships but may be challenging to generalize to broader, real-world contexts.\n",
    "<div style=\"display:flex; justify-content:center;\">\n",
    "    <img src=\"../images/experiment1.jpg\" alt=\"Image\" width=\"400\" height=\"300\" style=\"margin-left: 10px;\">\n",
    "</div>\n",
    "\n",
    "2. **Observational studies** involve making observations in the real world without intervening. These studies are good for identifying patterns but don't control for outside variables, making it difficult to infer causality.\n",
    "\n",
    "<div style=\"display:flex; justify-content:center;\">\n",
    "    <img src=\"../images/dolphin.jpg\" alt=\"Image\" width=\"400\" height=\"300\" style=\"margin-left: 10px;\">\n",
    "</div>\n",
    "\n"
   ]
  },
  {
   "cell_type": "markdown",
   "id": "1647b55d",
   "metadata": {},
   "source": [
    "### Video\n",
    "\n",
    "<iframe width=\"462\" height=\"260\" src=\"https://www.youtube.com/embed/3mjK6Zzy_Mk\" title=\"Types of studies and variables\" frameborder=\"0\" allow=\"accelerometer; autoplay; clipboard-write; encrypted-media; gyroscope; picture-in-picture; web-share\" allowfullscreen></iframe>\n",
    "\n",
    "[Video Link](https://youtu.be/3mjK6Zzy_Mk)"
   ]
  },
  {
   "attachments": {},
   "cell_type": "markdown",
   "id": "2ab67f30-08e0-4c1e-b8e6-8ec1cc74cea6",
   "metadata": {},
   "source": [
    "### Population vs. Sample\n",
    "\n",
    "Data can be collected from a complete group, known as the population, or a subset of that group, called a sample.\n",
    "\n",
    "1. **Population (N):** This is the complete set of data from a particular source. Any conclusions drawn directly from a population are called parameters. These are constant and exact.\n",
    "2. **Sample (n):** This is a subset of data drawn from the population for analysis. Conclusions from sample data, termed estimates, are random and approximate.\n",
    "\n",
    "<div style=\"display:flex; justify-content:center;\">\n",
    "    <img src=\"../images/sheep.jpg\" alt=\"Image\" width=\"400\" height=\"250\" style=\"margin-left: 10px;\">\n",
    "</div>\n"
   ]
  },
  {
   "cell_type": "markdown",
   "id": "97f4a1a8",
   "metadata": {},
   "source": [
    "\n",
    "### Video\n",
    "<iframe width=\"462\" height=\"260\" src=\"https://www.youtube.com/embed/w--h_vL5ZPk\" title=\"Populations and Samples\" frameborder=\"0\" allow=\"accelerometer; autoplay; clipboard-write; encrypted-media; gyroscope; picture-in-picture; web-share\" allowfullscreen></iframe>\n",
    "\n",
    "[Video link](https://youtu.be/w--h_vL5ZPk)"
   ]
  },
  {
   "attachments": {},
   "cell_type": "markdown",
   "id": "9ee0f179-4bd0-4446-8d34-12e5529e8fac",
   "metadata": {},
   "source": [
    "### Sampling Errors and Bias\n",
    "\n",
    "When dealing with samples, two key considerations are sampling error and bias:\n",
    "\n",
    "1. **Sampling error** refers to the random discrepancies between the sample estimate and the true population parameter. The larger the sample size, the smaller the sampling error, as the sample becomes more representative of the population.\n",
    "2. **Sampling bias** occurs when certain members of the population are more likely to be sampled than others. This bias can be mitigated by ensuring samples are selected randomly. However, achieving true randomness can be challenging in certain scenarios.\n",
    "\n",
    "Several common sources of sampling bias include:\n",
    "\n",
    "- **Sample of convenience:** Researchers select the easiest samples to collect.\n",
    "- **Volunteer bias:** Data comes only from members of the population who voluntarily provide data, such as respondents to a survey.\n"
   ]
  },
  {
   "cell_type": "markdown",
   "id": "748e2b88",
   "metadata": {},
   "source": [
    "### Video\n",
    "<iframe width=\"462\" height=\"260\" src=\"https://www.youtube.com/embed/-eIQoC18YKU\" title=\"Sampling bias and sampling error and how to protect against it\" frameborder=\"0\" allow=\"accelerometer; autoplay; clipboard-write; encrypted-media; gyroscope; picture-in-picture; web-share\" allowfullscreen></iframe>\n",
    "\n",
    "[Video link](https://youtu.be/-eIQoC18YKU)"
   ]
  },
  {
   "attachments": {},
   "cell_type": "markdown",
   "id": "04c31126-f680-4e5d-aad5-47b19c1b84eb",
   "metadata": {},
   "source": [
    "## Conclusion\n",
    "\n",
    "Understanding data and its fundamentals is crucial for any scientific endeavor. This chapter has explored the types of variables, methods of data collection, and considerations for dealing with population and sample data. As you move forward in your exploration of scientific research, keep these principles in mind to ensure your findings are robust, reliable, and insightful."
   ]
  },
  {
   "attachments": {},
   "cell_type": "markdown",
   "id": "8bccf73b-8380-4a5b-ad27-57fc3998253a",
   "metadata": {
    "tags": []
   },
   "source": [
    "## End of chapter questions"
   ]
  },
  {
   "attachments": {},
   "cell_type": "markdown",
   "id": "a7364297-1c5c-43bc-9519-b300dc082934",
   "metadata": {},
   "source": [
    "1. Why is it important for scientists to understand the different types of variables in data analysis? Discuss how the classification of variables as numerical or categorical influences the choice of appropriate statistical methods and the interpretation of results. Provide examples from scientific research to support your answer."
   ]
  },
  {
   "attachments": {},
   "cell_type": "markdown",
   "id": "3d8c3bdf-44fa-4d60-b72b-70caf7fa5302",
   "metadata": {},
   "source": [
    "2. Compare and contrast experimental and observational  study designs, highlighting their respective strengths and limitations. In what situations would each design be most suitable for gathering scientific data?"
   ]
  },
  {
   "attachments": {},
   "cell_type": "markdown",
   "id": "a44238c9-99d4-43e0-9bd1-f5af85bcd0f8",
   "metadata": {},
   "source": [
    "3. Explain the distinction between a population and a sample in data collection. Discuss why researchers often work with samples rather than attempting to collect data from entire populations. What are the advantages and challenges associated with using sample data to make inferences about populations?"
   ]
  },
  {
   "attachments": {},
   "cell_type": "markdown",
   "id": "35dab7cf-42f5-4db4-824c-261411ae6d85",
   "metadata": {},
   "source": [
    "4. Sampling error and bias are important considerations when working with sample data. Define sampling error and explain how it impacts the accuracy of sample estimates in relation to the true population parameters. Discuss strategies that researchers can employ to reduce sampling error."
   ]
  },
  {
   "attachments": {},
   "cell_type": "markdown",
   "id": "7d433d7e-99b6-4967-814a-d41b000b4e2b",
   "metadata": {},
   "source": [
    "5. The chapter mentions various sources of sampling bias, such as convenience sampling and volunteer bias. Choose one of these biases and discuss its potential impact on the validity and generalizability of research findings. Suggest alternative sampling methods that researchers can employ to minimize the effects of this bias."
   ]
  }
 ],
 "metadata": {
  "kernelspec": {
   "display_name": "Python 3 (ipykernel)",
   "language": "python",
   "name": "python3"
  },
  "language_info": {
   "codemirror_mode": {
    "name": "ipython",
    "version": 3
   },
   "file_extension": ".py",
   "mimetype": "text/x-python",
   "name": "python",
   "nbconvert_exporter": "python",
   "pygments_lexer": "ipython3",
   "version": "3.12.3"
  }
 },
 "nbformat": 4,
 "nbformat_minor": 5
}
