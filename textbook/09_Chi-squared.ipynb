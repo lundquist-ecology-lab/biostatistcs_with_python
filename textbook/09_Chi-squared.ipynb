{
 "cells": [
  {
   "attachments": {},
   "cell_type": "markdown",
   "id": "6bc1ce69-39b9-40e3-bab8-914ec56f563b",
   "metadata": {},
   "source": [
    "# $\\chi^2$ Test for Independence and Goodness-of-Fit Test"
   ]
  },
  {
   "attachments": {},
   "cell_type": "markdown",
   "id": "ef47ecdf-dd40-49ce-8a6e-4ef09639cd5b",
   "metadata": {},
   "source": [
    "<div class=\"alert alert-info\">Learning Goals:</div>\n",
    "\n",
    "1. Understand the concept and applications of contingency tables.\n",
    "2. Learn how to create and interpret contingency tables.\n",
    "3. Explore the $\\chi^2$ test for independence.\n",
    "4. Utilize Python code examples to perform analysis on contingency tables.\n",
    "5. Understand the $\\chi^2$ Goodness-of-Fit Test and its purpose in statistical analysis.\n",
    "6. Learn how to perform the $\\chi^2$ Goodness-of-Fit Test to assess the fit between observed and expected frequencies.\n",
    "7. Utilize Python code examples to conduct the $\\chi^2$ Goodness-of-Fit Test and interpret the results."
   ]
  },
  {
   "attachments": {},
   "cell_type": "markdown",
   "id": "341b5cf4",
   "metadata": {},
   "source": [
    "# Contingency Tables and $\\chi^2$ Test for Independence"
   ]
  },
  {
   "attachments": {},
   "cell_type": "markdown",
   "id": "062c1437",
   "metadata": {},
   "source": [
    "## Contingency tables\n",
    "\n",
    "Contingency tables, also known as cross-tabulation or crosstab, are used to summarize and examine the relationship between two categorical variables. They display the frequency distribution of the variables across different categories."
   ]
  },
  {
   "attachments": {},
   "cell_type": "markdown",
   "id": "1de5dac4",
   "metadata": {},
   "source": [
    "## Applications of Contingency Tables\n",
    "Contingency tables are commonly used in various scenarios, including:\n",
    "- Analyzing survey data.\n",
    "- Investigating association between variables.\n",
    "- Assessing the distribution of data across categories."
   ]
  },
  {
   "attachments": {},
   "cell_type": "markdown",
   "id": "bb106aaa",
   "metadata": {},
   "source": [
    "## Creating and Interpreting Contingency Tables\n",
    "A contingency table organizes data into rows and columns, representing the categories of the two categorical variables being studied. The cells of the table contain the frequency or count of observations that fall into each combination of categories.\n",
    "\n",
    "Contingency tables allow us to observe patterns and relationships between the categorical variables. We can examine the distribution of frequencies across the cells to identify any associations or dependencies."
   ]
  },
  {
   "attachments": {},
   "cell_type": "markdown",
   "id": "5b3a63dd",
   "metadata": {},
   "source": [
    "Example contingency table:\n",
    "\n",
    "|          |   Group1 |   Group2 |\n",
    "|:---------|---------:|---------:|\n",
    "| Outcome1 |       15 |        5 |\n",
    "| Outcome2 |        3 |       16 |\n"
   ]
  },
  {
   "attachments": {},
   "cell_type": "markdown",
   "id": "1040206a",
   "metadata": {},
   "source": [
    "## $\\chi^2$ Test for Independence\n",
    "The $\\chi^2$ test for independence is used to determine whether there is a statistically significant association between two categorical variables. It compares the observed frequencies in a contingency table with the frequencies that would be expected if the variables were independent."
   ]
  },
  {
   "cell_type": "code",
   "execution_count": null,
   "id": "3581a0f1",
   "metadata": {},
   "outputs": [
    {
     "name": "stdout",
     "output_type": "stream",
     "text": [
      "Chi-Square Test Results:\n",
      "Chi-square statistic: 11.47\n",
      "p-value: 0.0\n",
      "Degrees of Freedom: 1\n",
      "Expected Frequencies:\n",
      "[[ 9.23076923 10.76923077]\n",
      " [ 8.76923077 10.23076923]]\n"
     ]
    }
   ],
   "source": [
    "import numpy as np\n",
    "import scipy.stats as stats\n",
    "\n",
    "# Example data\n",
    "observed = np.array([[15, 5],\n",
    "                     [3, 16]])\n",
    "\n",
    "# Perform chi-squared test for independence\n",
    "chi2, p_value, dof, expected = stats.chi2_contingency(observed)\n",
    "print(\"Chi-Squared Test Results:\")\n",
    "print(\"Chi-squared statistic:\", round(chi2, 2))\n",
    "print(\"p-value:\", round(p_value, 2))\n",
    "print(\"Degrees of Freedom:\", round(dof, 2))\n",
    "print(\"Expected Frequencies:\")\n",
    "print(expected)"
   ]
  },
  {
   "attachments": {},
   "cell_type": "markdown",
   "id": "ca201d5d",
   "metadata": {},
   "source": [
    "## Interpreting $\\chi^2$ Statistic and p-value\n",
    "- $\\chi^2$ statistic: Measures the overall association between variables.\n",
    "- p-value: Determines the statistical significance of the association.\n",
    "- If the p-value is below a predetermined significance level (e.g., 0.05), we reject the null hypothesis of independence and conclude that there is evidence of an association."
   ]
  },
  {
   "attachments": {},
   "cell_type": "markdown",
   "id": "13602268-d0b3-4dd8-8493-61e13e1874e9",
   "metadata": {
    "tags": []
   },
   "source": [
    "## $\\chi^2$ Goodness-of-Fit Test\n",
    "The $\\chi^2$ Goodness-of-Fit Test is a statistical test used to determine if an observed sample fits a specified theoretical distribution. It compares the observed frequencies with the expected frequencies based on the hypothesized distribution.\n",
    "\n",
    "### Applications of the $\\chi^2$ Goodness-of-Fit Test\n",
    "- Testing Hypotheses: Assessing whether observed data follows a specific distribution.\n",
    "- Model Evaluation: Checking if a theoretical model adequately represents observed data.\n",
    "\n",
    "### Performing the $\\chi^2$ Goodness-of-Fit Test\n",
    "\n",
    "The $\\chi^2$ statistic measures the discrepancy between observed and expected frequencies. It is calculated using the formula:\n",
    "\n",
    "$$χ² = \\frac{(O - E)²}{E}$$\n",
    "\n",
    "<div class=\"alert alert-success\"><b>O</b> represents the observed frequencies, <b>E</b> represents the expected frequencies based on the hypothesized distribution, and the sum is taken over all categories or bins.</div>"
   ]
  },
  {
   "attachments": {},
   "cell_type": "markdown",
   "id": "c1943826-26ca-4787-82ac-a22117ea2f78",
   "metadata": {
    "tags": []
   },
   "source": [
    "### Degrees of Freedom\n",
    "The degrees of freedom (df) for the $\\chi^2$ Goodness-of-Fit Test depend on the number of categories and constraints imposed by the test. For the test of fit to a specified distribution, df = number of categories - 1."
   ]
  },
  {
   "attachments": {},
   "cell_type": "markdown",
   "id": "3ecbce35-fee7-4e35-8f35-3ab36da92a83",
   "metadata": {
    "tags": []
   },
   "source": [
    "### P-value and Interpretation\n",
    "The p-value associated with the $\\chi^2$ Goodness-of-Fit Test represents the probability of obtaining the observed data or more extreme results if the null hypothesis (goodness-of-fit) is true. A smaller p-value suggests stronger evidence against the null hypothesis."
   ]
  },
  {
   "attachments": {},
   "cell_type": "markdown",
   "id": "ee5d18f6-a1a0-4d2b-b07a-a6ce5cd77739",
   "metadata": {
    "tags": []
   },
   "source": [
    "### Assumptions and Limitations of the Chi-Squared Goodness-of-Fit Test\n",
    "\n",
    "Assumptions\n",
    "- Independence: The observations within each category or bin are assumed to be independent.\n",
    "- Expected Frequencies: The expected frequencies should be sufficiently large (typically at least 5) to satisfy the asymptotic properties of the $\\chi^2$ distribution.\n",
    "\n",
    "Limitations\n",
    "- Sample Size: The $\\chi^2$ Goodness-of-Fit Test may not be reliable with small sample sizes.\n",
    "- Cell Frequency: If any cell in the contingency table has an expected frequency below a certain threshold (e.g., 5), the $\\chi^2$ test results may be unreliable."
   ]
  },
  {
   "cell_type": "markdown",
   "id": "cba756ef",
   "metadata": {},
   "source": [
    "### Video\n",
    "<iframe width=\"462\" height=\"260\" src=\"https://www.youtube.com/embed/sn6MT_nu808\" title=\"Chi-squared goodness of fit test\" frameborder=\"0\" allow=\"accelerometer; autoplay; clipboard-write; encrypted-media; gyroscope; picture-in-picture; web-share\" allowfullscreen></iframe>\n",
    "\n",
    "[Video link](https://youtu.be/sn6MT_nu808)"
   ]
  },
  {
   "attachments": {},
   "cell_type": "markdown",
   "id": "f75d5c09-aca7-4e70-b338-366a22c3bcd4",
   "metadata": {
    "tags": []
   },
   "source": [
    "## Performing the Chi-Squared Goodness-of-Fit Test"
   ]
  },
  {
   "cell_type": "code",
   "execution_count": 3,
   "id": "a15f489b-ad8d-4243-b2de-00f834101a5c",
   "metadata": {
    "tags": []
   },
   "outputs": [
    {
     "name": "stdout",
     "output_type": "stream",
     "text": [
      "Chi-Squared Statistic: 0.95\n",
      "p-value: 0.81\n"
     ]
    }
   ],
   "source": [
    "from scipy.stats import chisquare\n",
    "\n",
    "observed = [10, 15, 25, 20]  # Observed values\n",
    "expected = [12, 15, 20, 23]  # Expected values based on hypothesized distribution\n",
    "\n",
    "chi2, p_value = chisquare(f_obs=observed, f_exp=expected)\n",
    "print(\"Chi-Squared Statistic:\", round(chi2, 2))\n",
    "print(\"p-value:\", round(p_value, 2))"
   ]
  },
  {
   "attachments": {},
   "cell_type": "markdown",
   "id": "220b77d2-3650-4565-8165-b38f0812d654",
   "metadata": {
    "tags": []
   },
   "source": [
    "### Interpreting the Results\n",
    "Compare the p-value to a predetermined significance level (e.g., 0.05) to determine the statistical significance. If the p-value is below the significance level, we reject the null hypothesis and conclude that the observed data does not fit the hypothesized distribution."
   ]
  },
  {
   "attachments": {},
   "cell_type": "markdown",
   "id": "3198be71-183d-4caf-b379-43d5200ebadf",
   "metadata": {},
   "source": [
    "## Chi-squared in biology"
   ]
  },
  {
   "attachments": {},
   "cell_type": "markdown",
   "id": "59201c7d-fd6a-4e3f-a5fd-14b5b5965d83",
   "metadata": {
    "tags": []
   },
   "source": [
    "Gregor Mendel developed the principle of independent assortment, which \n",
    "states that alleles will segregate independently into gametes in a \n",
    "dihybrid with a phenotypic ratio of **9:3:3:1**. For example, see this dihybrid \n",
    "cross table of a BbEe x BbEe hybrid fly. The `B` gene codes for body color \n",
    "and the `E` gene codes for eye color. The dominant body color is brown, \n",
    "and the recessive color is black, the dominant eye color is red \n",
    "and the recessive eye color is brown. See that there are a 9:3:3:1 ratio \n",
    "of possible offspring. All possible combinations are represented in the table below."
   ]
  },
  {
   "attachments": {},
   "cell_type": "markdown",
   "id": "950ce176-8c90-41a1-ad1f-caae5b3aa121",
   "metadata": {},
   "source": [
    "|           |     BE      |     Be      |     bE      |     be      |\n",
    "|-----------|-------------|-------------|-------------|-------------|\n",
    "|     BE    |     BEBE    |     BEBe    |     BEbE    |     BEbe    |\n",
    "|     Be    |     BeBE    |     BeBe    |     BebE    |     Bebe    |\n",
    "|     bE    |     bEBE    |     bEBe    |     bEbE    |     bEbe    |\n",
    "|     Be    |     beBE    |     beBe    |     bEbE    |     bebe    |"
   ]
  },
  {
   "attachments": {},
   "cell_type": "markdown",
   "id": "1b328fe7-915d-42cc-b96f-75912b9b3c98",
   "metadata": {},
   "source": [
    "However, we now know that sometimes certain alleles are associated with each \n",
    "other, or in other words are not independent. We can test to see if alleles \n",
    "are linked using the $\\chi^2$ goodness of fit test. \n"
   ]
  },
  {
   "attachments": {},
   "cell_type": "markdown",
   "id": "f0f394a2-e192-4107-b4e9-fddb5134c046",
   "metadata": {},
   "source": [
    "Let's say we take flies that are heterozygous for both the B and E genes. \n",
    "We perform `100` dihybrid crosses and  get the following offspring phenotypes:"
   ]
  },
  {
   "attachments": {},
   "cell_type": "markdown",
   "id": "aeb86ddc-3107-4d46-b857-e62225e6dac0",
   "metadata": {},
   "source": [
    "|     Genotype        |     # individuals    |\n",
    "|---------------------|----------------------|\n",
    "|     Brown, red      |     50               |\n",
    "|     Brown, brown    |     20               |\n",
    "|     Black, red      |     20               |\n",
    "|     Black, brown    |     10               |\n",
    "|                     |     Total = 100      |"
   ]
  },
  {
   "attachments": {},
   "cell_type": "markdown",
   "id": "ffecfd2e-794a-4189-ab4c-d3ceac32d90f",
   "metadata": {
    "tags": []
   },
   "source": [
    "We can use the chi-square test to see if these genes independently assort. \n",
    "If we expect a 9:3:3:1 ratio, we can calculate the expected phenotypes \n",
    "of the offspring:"
   ]
  },
  {
   "attachments": {},
   "cell_type": "markdown",
   "id": "cf995941-4981-4ded-87df-673f8683b328",
   "metadata": {},
   "source": [
    "|     Genotype        |     # individuals         |\n",
    "|---------------------|---------------------------|\n",
    "|     Brown, red      |     9/16 * 100 = 56.25    |\n",
    "|     Brown, brown    |     3/16 * 100 = 18.75    |\n",
    "|     Black, red      |     3/16 * 100 = 18.75    |\n",
    "|     Black, brown    |     1/16 * 100 = 6.25     |\n",
    "|                     |     Total = 100           |"
   ]
  },
  {
   "cell_type": "code",
   "execution_count": 6,
   "id": "efd216b7-e1f4-44c2-a42d-e8bb18a80e56",
   "metadata": {
    "tags": []
   },
   "outputs": [
    {
     "name": "stdout",
     "output_type": "stream",
     "text": [
      "Chi-Squared Statistic: 3.11\n",
      "p-value: 0.37\n"
     ]
    }
   ],
   "source": [
    "from scipy.stats import chisquare\n",
    "\n",
    "observed = [50, 20, 20, 10]  # Observed values\n",
    "expected = [56.25, 18.75, 18.75, 6.25]  # Expected values based on hypothesized distribution\n",
    "\n",
    "chi2, p_value = chisquare(f_obs=observed, f_exp=expected)\n",
    "print(\"Chi-Squared Statistic:\", round(chi2, 2))\n",
    "print(\"p-value:\", round(p_value, 2))"
   ]
  },
  {
   "attachments": {},
   "cell_type": "markdown",
   "id": "05ba12d2-cb0d-4af6-b6dd-3330b4d2b0a8",
   "metadata": {
    "tags": []
   },
   "source": [
    "## End of chapter question"
   ]
  },
  {
   "attachments": {},
   "cell_type": "markdown",
   "id": "50254b89-69ca-4ff0-9864-2088b90c8fbf",
   "metadata": {},
   "source": [
    "Let's suppose that in aardvarks, front foot hair length is controlled by \n",
    "a single gene with two alleles, and let's call them `A` for the dominant allele \n",
    "and `a` for the recessive allele. In individuals have at least one `A` allele, \n",
    "they have a long front foot hair, but if they have both `a`\n",
    "alleles, they have a shorter foot hair.\n",
    "\n",
    "<div style=\"display:flex; justify-content:center;\">\n",
    "    <img src=\"images/aardvark.jpg\" alt=\"Image\" width=\"400\" height=\"300\" style=\"margin-left: 10px;\">\n",
    "</div>"
   ]
  },
  {
   "attachments": {},
   "cell_type": "markdown",
   "id": "1f2e3912-ce20-4d65-b48e-9862a979de15",
   "metadata": {},
   "source": [
    "We take a random sample of 230 aardvarks in a national park in Africa and genotype\n",
    "them. We find that 43 are `AA`, 32 are `Aa`, and 10 are `aa`. If having the short hair allele does not impact fitness (survival and reproduction),then individuals  with 0, 1, or 2 copies of the \"b\" allele should follow a \n",
    "binomial distribution.\n",
    "\n",
    "Test this using the $\\chi^2$ goodness of fit test."
   ]
  },
  {
   "cell_type": "code",
   "execution_count": null,
   "id": "b04ebfa0-6897-4d17-9606-daf235256c04",
   "metadata": {},
   "outputs": [],
   "source": []
  }
 ],
 "metadata": {
  "kernelspec": {
   "display_name": "Python 3 (ipykernel)",
   "language": "python",
   "name": "python3"
  },
  "language_info": {
   "codemirror_mode": {
    "name": "ipython",
    "version": 3
   },
   "file_extension": ".py",
   "mimetype": "text/x-python",
   "name": "python",
   "nbconvert_exporter": "python",
   "pygments_lexer": "ipython3",
   "version": "3.10.6"
  }
 },
 "nbformat": 4,
 "nbformat_minor": 5
}
