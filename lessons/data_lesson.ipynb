{
 "cells": [
  {
   "cell_type": "markdown",
   "id": "d06132b5-4822-45d3-b93a-0af246ca7c72",
   "metadata": {},
   "source": [
    "## Dealing with data\n",
    "\n",
    "Data is made up of variables and can classify data into two basic groups:\n",
    "\n",
    "- Numeric: numbers, either whole or fractions\n",
    "     - Discrete: Only certain values possible within a given range (e.g. counts)\n",
    "     - Continuous: Any value is possible within a given range (e.g. measurements)\n",
    "\n",
    "- Categorical (factors): identifies a grouping of data\n",
    "\n",
    "Both numeric data is collected through experimental and observational studies\n",
    "and most data is recorded electronically as either Excel spreadsheets (.xlsx)\n",
    "or as comma-separated value sheets (.csv) where all values are separated\n",
    "from each other with a comma.\n",
    "\n",
    "Example csv format:"
   ]
  },
  {
   "cell_type": "markdown",
   "id": "10b8f279-be93-4999-9b85-58bc75034cc8",
   "metadata": {},
   "source": [
    "| variable_1, | variable_2, | group, |\n",
    "|------------|------------|-------|\n",
    "| 10,         | 15,         | 1,     |\n",
    "| 11,        | 13,         | 1,     |\n",
    "| 12,         | 11,         | 1,     |\n",
    "| 14,         | 11,         | 1,     |\n",
    "| 12,         | 11,         | 2,     |\n",
    "| 11,         | 11,         | 2,     |\n",
    "| 15,         | 13,         | 2,     |\n",
    "| 16,         | 12,         | 2,     |"
   ]
  },
  {
   "cell_type": "markdown",
   "id": "72a44793-5313-44c3-bfca-175d9864dd22",
   "metadata": {},
   "source": [
    "Notice the first row contains a variable name for each column and then each other row\n",
    "is a set of measurements (numeric) or identifiers (factors).\n",
    "\n",
    "- Each row represents a single observation of a particular set of variables.\n",
    "- Each column represents all observations of a particular variable.\n",
    "\n",
    "Important concepts\n",
    "- The entire table together is a data frame\n",
    "- Each column represents a single vector or array of data\n",
    "- Data in columns can represent numerical data or be made up of factors, even if the arrays are made up of numbers\n",
    "- We need to explicitly indicate which variables are factors in our code"
   ]
  },
  {
   "cell_type": "markdown",
   "id": "71a0f0b7-139b-4dee-ae7b-3f13ab5c858b",
   "metadata": {},
   "source": [
    "## Exercise: Importing data\n"
   ]
  },
  {
   "cell_type": "markdown",
   "id": "6130b1b6-cbf2-4477-92c1-2b93dcb524a9",
   "metadata": {},
   "source": [
    "In Python, you can use various libraries to import data. For example, to import\n",
    "the Iris dataset, you can use the following code with the pandas library:"
   ]
  },
  {
   "cell_type": "code",
   "execution_count": 3,
   "id": "74d02b60-4b64-4755-9f73-b9fb24733684",
   "metadata": {},
   "outputs": [
    {
     "name": "stdout",
     "output_type": "stream",
     "text": [
      "   sepal_length  sepal_width  petal_length  petal_width species\n",
      "0           5.1          3.5           1.4          0.2  setosa\n",
      "1           4.9          3.0           1.4          0.2  setosa\n",
      "2           4.7          3.2           1.3          0.2  setosa\n",
      "3           4.6          3.1           1.5          0.2  setosa\n",
      "4           5.0          3.6           1.4          0.2  setosa\n"
     ]
    }
   ],
   "source": [
    "import seaborn as sns\n",
    "\n",
    "# Load the Iris dataset\n",
    "iris = sns.load_dataset(\"iris\")\n",
    "\n",
    "# Display the first few rows of the dataset\n",
    "print(iris.head())"
   ]
  },
  {
   "cell_type": "markdown",
   "id": "0b6bde7b-33f8-49b6-a39b-b85f7b32d89e",
   "metadata": {},
   "source": [
    ".csv files (from the internet)"
   ]
  },
  {
   "cell_type": "code",
   "execution_count": 2,
   "id": "116bbe80-3655-4f98-88ea-178938601190",
   "metadata": {},
   "outputs": [
    {
     "name": "stdout",
     "output_type": "stream",
     "text": [
      "                data_as_of               start_date                 end_date  \\\n",
      "0  2023-09-13T00:00:00.000  2020-01-01T00:00:00.000  2023-09-09T00:00:00.000   \n",
      "1  2023-09-13T00:00:00.000  2020-01-01T00:00:00.000  2023-09-09T00:00:00.000   \n",
      "2  2023-09-13T00:00:00.000  2020-01-01T00:00:00.000  2023-09-09T00:00:00.000   \n",
      "3  2023-09-13T00:00:00.000  2020-01-01T00:00:00.000  2023-09-09T00:00:00.000   \n",
      "4  2023-09-13T00:00:00.000  2020-01-01T00:00:00.000  2023-09-09T00:00:00.000   \n",
      "\n",
      "      group  year  month          state        sex     age_group  \\\n",
      "0  By Total   NaN    NaN  United States  All Sexes      All Ages   \n",
      "1  By Total   NaN    NaN  United States  All Sexes  Under 1 year   \n",
      "2  By Total   NaN    NaN  United States  All Sexes    0-17 years   \n",
      "3  By Total   NaN    NaN  United States  All Sexes     1-4 years   \n",
      "4  By Total   NaN    NaN  United States  All Sexes    5-14 years   \n",
      "\n",
      "   covid_19_deaths  total_deaths  pneumonia_deaths  \\\n",
      "0        1144031.0      12183330         1155816.0   \n",
      "1            517.0         72455            1047.0   \n",
      "2           1692.0        129566            2936.0   \n",
      "3            283.0         14138             684.0   \n",
      "4            509.0         21780             810.0   \n",
      "\n",
      "   pneumonia_and_covid_19_deaths  influenza_deaths  \\\n",
      "0                       568157.0           22167.0   \n",
      "1                           95.0              64.0   \n",
      "2                          424.0             508.0   \n",
      "3                           66.0             176.0   \n",
      "4                          143.0             219.0   \n",
      "\n",
      "   pneumonia_influenza_or_covid footnote  \n",
      "0                     1751374.0      NaN  \n",
      "1                        1530.0      NaN  \n",
      "2                        4686.0      NaN  \n",
      "3                        1068.0      NaN  \n",
      "4                        1382.0      NaN  \n"
     ]
    }
   ],
   "source": [
    "# To import data from a .csv file, you can use pandas as well. For example:\n",
    "\n",
    "import pandas as pd\n",
    "\n",
    "url = \"https://data.cdc.gov/resource/9bhg-hcku.csv\"\n",
    "covid_data = pd.read_csv(url)\n",
    "print(covid_data.head())"
   ]
  },
  {
   "cell_type": "code",
   "execution_count": null,
   "id": "f40d5e5c-90d6-4d31-ad38-178f2706169d",
   "metadata": {},
   "outputs": [],
   "source": [
    ".xlsx files (from the internet)"
   ]
  },
  {
   "cell_type": "code",
   "execution_count": 10,
   "id": "a665528a-234c-4309-9900-50f397e318d9",
   "metadata": {},
   "outputs": [
    {
     "name": "stdout",
     "output_type": "stream",
     "text": [
      "   OrderDate   Region  Manager   SalesMan          Item  Units  Unit_price  \\\n",
      "0 2018-01-06     East   Martha  Alexander    Television   95.0      1198.0   \n",
      "1 2018-01-23  Central  Hermann     Shelli  Home Theater   50.0       500.0   \n",
      "2 2018-02-09  Central  Hermann       Luis    Television   36.0      1198.0   \n",
      "3 2018-02-26  Central  Timothy      David    Cell Phone   27.0       225.0   \n",
      "4 2018-03-15     West  Timothy    Stephen    Television   56.0      1198.0   \n",
      "\n",
      "   Sale_amt  \n",
      "0  113810.0  \n",
      "1   25000.0  \n",
      "2   43128.0  \n",
      "3    6075.0  \n",
      "4   67088.0  \n"
     ]
    }
   ],
   "source": [
    "# To import data from an .xlsx file, you can use the openpyxl library. For example:\n",
    "\n",
    "import pandas as pd\n",
    "import requests\n",
    "\n",
    "# URL of the Excel file\n",
    "url = \"https://www.w3resource.com/python-exercises/pandas/excel/SaleData.xlsx\"\n",
    "\n",
    "# Download the Excel file\n",
    "response = requests.get(url)\n",
    "\n",
    "# Save the Excel file locally\n",
    "with open(\"SaleData.xlsx\", \"wb\") as file:\n",
    "    file.write(response.content)\n",
    "\n",
    "# Load the Excel data into a Pandas DataFrame\n",
    "df = pd.read_excel(\"SaleData.xlsx\")\n",
    "\n",
    "# Display the first few rows of the DataFrame\n",
    "print(df.head())"
   ]
  },
  {
   "cell_type": "code",
   "execution_count": null,
   "id": "46abcd5e-c8d6-497e-85f2-93b8d0b38c23",
   "metadata": {},
   "outputs": [],
   "source": [
    "If the files are on local storage"
   ]
  },
  {
   "cell_type": "code",
   "execution_count": null,
   "id": "0443b4b9-54ab-48a1-80e7-df9c8019254d",
   "metadata": {},
   "outputs": [],
   "source": [
    "# If the data is in .csv format, you can use pandas to read it:\n",
    "\n",
    "import pandas as pd\n",
    "\n",
    "penguin_data = pd.read_csv(\"palmer_penguins.csv\")\n",
    "print(penguin_data.head())\n",
    "\n",
    "# If the data is in .xlsx format, you can use openpyxl as shown earlier for web-based .xlsx files."
   ]
  },
  {
   "cell_type": "markdown",
   "id": "77bb73f2-9d4a-470f-88bb-a81becdb703f",
   "metadata": {},
   "source": [
    "There may be other data file formats out there (e.g., .txt), and you can search\n",
    "on Google how to import those."
   ]
  },
  {
   "cell_type": "markdown",
   "id": "5745b119-db9e-46e9-84ab-7b2bb7f368cd",
   "metadata": {},
   "source": [
    "## Exercise exploring data\n",
    "\n",
    "We can explore the data using functions in Python"
   ]
  },
  {
   "cell_type": "code",
   "execution_count": null,
   "id": "76a1be75-939b-4878-9713-ed3eb90f3a74",
   "metadata": {},
   "outputs": [],
   "source": [
    "# Explore built-in data\n",
    "print(dir())\n",
    "print(iris.head())\n",
    "print(iris.tail())\n",
    "\n",
    "# Determine if a particular variable is numeric or categorical\n",
    "print(type(iris['class']))\n",
    "print(type(iris['sepal_length']))"
   ]
  }
 ],
 "metadata": {
  "kernelspec": {
   "display_name": "Python 3 (ipykernel)",
   "language": "python",
   "name": "python3"
  },
  "language_info": {
   "codemirror_mode": {
    "name": "ipython",
    "version": 3
   },
   "file_extension": ".py",
   "mimetype": "text/x-python",
   "name": "python",
   "nbconvert_exporter": "python",
   "pygments_lexer": "ipython3",
   "version": "3.10.6"
  }
 },
 "nbformat": 4,
 "nbformat_minor": 5
}
