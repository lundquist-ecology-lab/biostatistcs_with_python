{
 "cells": [
  {
   "cell_type": "markdown",
   "metadata": {},
   "source": [
    "Hi,\n",
    "\n",
    "My name is Omar and I found a folder full of statistical analysis and data about sloths with the names Susan and Phil on it. The last I heard, Susan and Phil disappeared in the jungles of Costa Rica looking for a four-toed sloth... \n",
    "\n",
    "Anyhoo, I find this stuff really interesting but there are so many different statistical tests here and they are looking at just two comparisons. There must \n",
    "be a more efficient way of doing this (though maybe if I go out into the jungle...)\n",
    "\n",
    "Don't ask me why, but I am really interested in sloth claws. I see that there are multiple subspecies of sloths and I want to know if there is a significant difference\n",
    "in the length of claws among the different subspecies of sloths.\n",
    "\n",
    "To keep with the same format that you are use to when responding to Susan and Phil (wherever they are!), please include this information in your response:\n",
    "\n",
    "1. What is the most appropriate test to answer this question?\n",
    "2. What significance value should we use? Why?\n",
    "3. What are our hypotheses for the test?\n",
    "4. What is the result of the test and how do we interpret it?\n",
    "\n",
    "Now, if there is a difference between subspecies, how do I tell which subspecies are different from each other? \n",
    "\n",
    "Please include this information in your response:\n",
    "\n",
    "1. What is the most appropriate test to answer this question?\n",
    "2. What significance value should we use? Why?\n",
    "3. What are our hypotheses for the test?\n",
    "4. What is the result of the test and how do we interpret it?\n",
    "5. Is there a problem with reanalyzing the data like this? Is there a fix, and what is it?\n",
    "\n",
    "Also, a plot would be great to visualize the results of this test!\n",
    "\n",
    "Please remember to provide clear explanations along with your Python code so I can follow along with your analysis and understand your reasoning.\n",
    "\n",
    "Good luck!\n",
    "\n",
    "Omar\n",
    "\n",
    "P.S. I am buying a ticket to Brazil for myself now. There is something about this data that tells me that maybe a species of five-toed sloth is waiting to be discovered in the Amazon.\n"
   ]
  }
 ],
 "metadata": {
  "language_info": {
   "name": "python"
  },
  "orig_nbformat": 4
 },
 "nbformat": 4,
 "nbformat_minor": 2
}
