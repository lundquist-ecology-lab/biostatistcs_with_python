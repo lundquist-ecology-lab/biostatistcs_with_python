{
 "cells": [
  {
   "cell_type": "markdown",
   "metadata": {},
   "source": [
    "Hi,\n",
    "\n",
    "I hope this email finds you well. I have been doing some reading and I am really interested in sloth conservation. However, I don't really know where to start. Since you are studying biostatistics, I thought you would be able to help me. \n",
    "\n",
    "I have found this website and has a dataset with information about different sloth species (https://cloud.lundquistecology.com/s/A9NaokQgQRsCXkY), but I have no idea how to work with this data and find anything meaningful from it. Please help!\n",
    "\n",
    "What I would like from you:\n",
    "\n",
    "1. Show me how to import the dataset and figure out which data are numeric and which are categorical\n",
    "2. Run summary statistics to do some initial exploratory data analysis\n",
    "3. Visualize the data using appropriate plots\n",
    "\n",
    "I am not sure what is particularly interesting in this dataset so please provide a short summary of what you found and what might be interesting to do more detailed analysis of.\n",
    "\n",
    "Thanks!\n",
    "\n",
    "Susan\n",
    "\n",
    "P.S. Please provide working Python code so I can follow along and see all of your outputs!\n"
   ]
  }
 ],
 "metadata": {
  "language_info": {
   "name": "python"
  },
  "orig_nbformat": 4
 },
 "nbformat": 4,
 "nbformat_minor": 2
}
