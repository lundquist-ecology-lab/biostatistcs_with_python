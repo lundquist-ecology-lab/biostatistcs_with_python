{
 "cells": [
  {
   "cell_type": "markdown",
   "metadata": {},
   "source": [
    "Hi again!\n",
    "\n",
    "I really appreciated your initial report about sloth conservation. I think that it is really important to be able to explore data and find patterns. However, I am a very concerned about the sample sizes in this data set. Do we have enough samples? How do we deal with this? I heard that sample size is super important for statisticians.\n",
    "\n",
    "Can you answer these questions for me:\n",
    "\n",
    "1. What is sample size and why do we care about it?\n",
    "2. Why is having a larger sample better than a smaller one?\n",
    "3. For the patterns you were interested in from our first email exchange can you provide:\n",
    "   \n",
    "- The sample size of each of the groups\n",
    "- The mean of each group and their standard errors and explain what standard error is\n",
    "- The mean of each group and their 95% confidence intervals and explain what 95% confidence intervals are\n",
    "\n",
    "4. Provide any concerns you might have about the sample size in this data and what limitations it may have on our continued analysis of the data.\n",
    "\n",
    "Thanks so much!\n",
    "\n",
    "Susan\n",
    "\n",
    "P.S. Again, please provide working Python code so I can follow along and see all of your outputs!\n"
   ]
  }
 ],
 "metadata": {
  "language_info": {
   "name": "python"
  },
  "orig_nbformat": 4
 },
 "nbformat": 4,
 "nbformat_minor": 2
}
