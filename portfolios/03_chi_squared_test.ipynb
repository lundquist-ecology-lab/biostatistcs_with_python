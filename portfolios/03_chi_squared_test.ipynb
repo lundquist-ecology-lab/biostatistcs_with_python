{
 "cells": [
  {
   "cell_type": "markdown",
   "metadata": {},
   "source": [
    "Hi,\n",
    "\n",
    "I hope this email finds you well and that you enjoyed working the sloth data. I think we are now ready to run statistical analyses. I see there are a bunch of different species and subspecies of sloths and some are endangered and some are not. I want to know the sloth's endangered status is independent of their subspecies. \n",
    "\n",
    "Can you answer these questions for me:\n",
    "\n",
    "1. What is the most appropriate test to answer this question?\n",
    "2. What significance value should we use? Why?\n",
    "3. What are our hypotheses for the test?\n",
    "4. What is the result of the test and how do we interpret it?\n",
    "5. How do the results tell us about conservation status?\n",
    "   \n",
    "Please remember to provide clear explanations along with your Python code so I can follow along with your analysis and understand your reasoning.\n",
    "\n",
    "Thanks a bunch!\n",
    "\n",
    "Susan"
   ]
  }
 ],
 "metadata": {
  "language_info": {
   "name": "python"
  },
  "orig_nbformat": 4
 },
 "nbformat": 4,
 "nbformat_minor": 2
}
