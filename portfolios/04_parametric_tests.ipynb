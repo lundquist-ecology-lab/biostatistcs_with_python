{
 "cells": [
  {
   "cell_type": "markdown",
   "metadata": {},
   "source": [
    "Hi,\n",
    "\n",
    "My name is Phil and I have just started working for Susan. I know you have been working with her on the sloth data and we are having a bit of a debate about how\n",
    "much sloths weigh (I know, really interesting stuff). \n",
    "\n",
    "Pygmy three-toed sloths, seen [here](https://en.wikipedia.org/wiki/Pygmy_three-toed_sloth#/media/File:Perezoso_La_Mochila.jpg), are considered the\n",
    "smallest sloths in the world. I don't buy it...don't ask me why, I just don't! \n",
    "\n",
    "Susan tells me an average sloth weighs 5.25 kg. Thats like the weight of a cat. I want to statistically test whether Pygmy three-toed sloths are actually smaller than the average sloth.  \n",
    "\n",
    "Help!\n",
    "\n",
    "Please include this information in your response:\n",
    "\n",
    "1. What is the most appropriate test to answer this question?\n",
    "2. What significance value should we use? Why?\n",
    "3. What are our hypotheses for the test?\n",
    "4. What is the result of the test and how do we interpret it?\n",
    "5. Am I right about the Pygmy three-toed sloths? How do you know?\n",
    "\n",
    "On another note, we are also arguing whether having extra toes make sloths heavier. Can you answer that question too?\n",
    "\n",
    "Please include this information in your response:\n",
    "\n",
    "1. What is the most appropriate test to answer this question?\n",
    "2. What significance value should we use? Why?\n",
    "3. What are our hypotheses for the test?\n",
    "4. What is the result of the test and how do we interpret it?\n",
    "5. Are three-toed and two-toed sloths different sizes? How do you know?\n",
    "\n",
    "Please remember to provide clear explanations along with your Python code so I can follow along with your analysis and understand your reasoning.\n",
    "\n",
    "Cheers!\n",
    "\n",
    "Phil\n",
    "\n",
    "P.S. It would be really great if you could make a plot for each of my questions to help me better understand the results."
   ]
  }
 ],
 "metadata": {
  "language_info": {
   "name": "python"
  },
  "orig_nbformat": 4
 },
 "nbformat": 4,
 "nbformat_minor": 2
}
