{
 "cells": [
  {
   "cell_type": "markdown",
   "metadata": {},
   "source": [
    "# Introduction to Python on Jupyter Notebooks\n",
    "\n",
    "This short introductory assignment is meant to give you an opportunity to play around in a Jupyter notebook and practice working with .ipynb files.\n",
    "\n",
    "**Do these exercises in order**"
   ]
  },
  {
   "cell_type": "markdown",
   "metadata": {},
   "source": [
    "Exercise 1: Creating a Markdown and Python code block"
   ]
  },
  {
   "cell_type": "markdown",
   "metadata": {},
   "source": [
    "This is a `Markdown` code block. It is created by clicking the `+` icon on the top left (among other ways) and changing the drop down menu from \"Code\" to \"Markdown\". You can then type in this code block using plain text, the same way you would in a program like Microsoft Word. There are also some cool *Tricks* you can do to format your text. See this site [Markdown Cheat Sheet](https://www.markdownguide.org/cheat-sheet/) for some examples. Feel free to play around with this formatting.\n",
    "\n",
    "You can then run the code by pressing `Ctrl + Enter` on your keyboard or clicking the play button on the top bar of the editor window. \n",
    "\n",
    "Note: All code blocks can be run this way"
   ]
  },
  {
   "cell_type": "code",
   "execution_count": 1,
   "metadata": {},
   "outputs": [
    {
     "name": "stdout",
     "output_type": "stream",
     "text": [
      "2\n"
     ]
    }
   ],
   "source": [
    "# This is a Python code block. It is created the same way at the Markdown one above\n",
    "# but \"Code\" is selected instead\n",
    "# In Python blocks, any line that begins with a # is a comment that is not run\n",
    "# and anything else is considered code.\n",
    "\n",
    "x = 1\n",
    "y = 1\n",
    "\n",
    "print(x + y)\n",
    "\n",
    "# Run this code block and you should get the answer \"2\""
   ]
  },
  {
   "cell_type": "markdown",
   "metadata": {},
   "source": [
    "Now, below, create a Python block that provides the answer of 18 minus 5. Then create a Markdown block in which you explain the code that produced your answer."
   ]
  },
  {
   "cell_type": "markdown",
   "metadata": {},
   "source": [
    "Exercise 2: Downloading data\n",
    "\n",
    "There are a lot of data sources out there, both on the internet and within Python libraries like `seaborn`.\n",
    "\n",
    "Run the code below and create a markdown code block in which you explain what is going on in the code, in basic terms. We call this documentation, which is extremely important to include with code so that other people that you might share your code with know what is going on."
   ]
  },
  {
   "cell_type": "code",
   "execution_count": 2,
   "metadata": {},
   "outputs": [
    {
     "name": "stdout",
     "output_type": "stream",
     "text": [
      "Index(['species', 'island', 'bill_length_mm', 'bill_depth_mm',\n",
      "       'flipper_length_mm', 'body_mass_g', 'sex'],\n",
      "      dtype='object')\n"
     ]
    }
   ],
   "source": [
    "import seaborn as sns\n",
    "\n",
    "penguins = sns.load_dataset('penguins')\n",
    "\n",
    "print(penguins.columns)"
   ]
  },
  {
   "cell_type": "markdown",
   "metadata": {},
   "source": [
    "Exercise 3: Error checking and fixing\n",
    "\n",
    "Being able to recognize and fix errors is important. When you hand in an assignment, your code needs to be working. However, sometimes you write code and it does not work. It is important to look through it carefully for typos or other errors. Python is a powerful language but it does not have autocorrect. Check this non-working code below for any errors and see if you can get it working. \n",
    "\n",
    "Note: When in doubt, ask Dr. Lundquist for help. If all else fails and you cannot figure out the fix, still submit it and Dr. Lundquist will fix it and base your score off of the severity of the error as well as the proportion of the assignment you had correct. "
   ]
  },
  {
   "cell_type": "code",
   "execution_count": 3,
   "metadata": {},
   "outputs": [
    {
     "name": "stdout",
     "output_type": "stream",
     "text": [
      "Index(['species', 'island', 'bill_length_mm', 'bill_depth_mm',\n",
      "       'flipper_length_mm', 'body_mass_g', 'sex'],\n",
      "      dtype='object')\n"
     ]
    },
    {
     "ename": "KeyError",
     "evalue": "'Species'",
     "output_type": "error",
     "traceback": [
      "\u001b[0;31m---------------------------------------------------------------------------\u001b[0m",
      "\u001b[0;31mKeyError\u001b[0m                                  Traceback (most recent call last)",
      "File \u001b[0;32m/usr/lib/python3.11/site-packages/pandas/core/indexes/base.py:3802\u001b[0m, in \u001b[0;36mIndex.get_loc\u001b[0;34m(self, key, method, tolerance)\u001b[0m\n\u001b[1;32m   3801\u001b[0m \u001b[39mtry\u001b[39;00m:\n\u001b[0;32m-> 3802\u001b[0m     \u001b[39mreturn\u001b[39;00m \u001b[39mself\u001b[39;49m\u001b[39m.\u001b[39;49m_engine\u001b[39m.\u001b[39;49mget_loc(casted_key)\n\u001b[1;32m   3803\u001b[0m \u001b[39mexcept\u001b[39;00m \u001b[39mKeyError\u001b[39;00m \u001b[39mas\u001b[39;00m err:\n",
      "File \u001b[0;32m/usr/lib/python3.11/site-packages/pandas/_libs/index.pyx:138\u001b[0m, in \u001b[0;36mpandas._libs.index.IndexEngine.get_loc\u001b[0;34m()\u001b[0m\n",
      "File \u001b[0;32m/usr/lib/python3.11/site-packages/pandas/_libs/index.pyx:165\u001b[0m, in \u001b[0;36mpandas._libs.index.IndexEngine.get_loc\u001b[0;34m()\u001b[0m\n",
      "File \u001b[0;32mpandas/_libs/hashtable_class_helper.pxi:5745\u001b[0m, in \u001b[0;36mpandas._libs.hashtable.PyObjectHashTable.get_item\u001b[0;34m()\u001b[0m\n",
      "File \u001b[0;32mpandas/_libs/hashtable_class_helper.pxi:5753\u001b[0m, in \u001b[0;36mpandas._libs.hashtable.PyObjectHashTable.get_item\u001b[0;34m()\u001b[0m\n",
      "\u001b[0;31mKeyError\u001b[0m: 'Species'",
      "\nThe above exception was the direct cause of the following exception:\n",
      "\u001b[0;31mKeyError\u001b[0m                                  Traceback (most recent call last)",
      "Cell \u001b[0;32mIn[3], line 15\u001b[0m\n\u001b[1;32m     12\u001b[0m \u001b[39mprint\u001b[39m(penguins\u001b[39m.\u001b[39mcolumns)\n\u001b[1;32m     14\u001b[0m \u001b[39m# Figure out data classes\u001b[39;00m\n\u001b[0;32m---> 15\u001b[0m \u001b[39mprint\u001b[39m(\u001b[39mtype\u001b[39m(penguins[\u001b[39m'\u001b[39;49m\u001b[39mSpecies\u001b[39;49m\u001b[39m'\u001b[39;49m][\u001b[39m0\u001b[39m]))\n\u001b[1;32m     16\u001b[0m \u001b[39mprint\u001b[39m(\u001b[39mtype\u001b[39m(penguens[\u001b[39m'\u001b[39m\u001b[39mbill_length_mm\u001b[39m\u001b[39m'\u001b[39m][\u001b[39m0\u001b[39m]))\n\u001b[1;32m     17\u001b[0m \u001b[39mprint\u001b[39m(\u001b[39mtype\u001b[39m(penguins[\u001b[39m'\u001b[39m\u001b[39mbody_wight_g\u001b[39m\u001b[39m'\u001b[39m][\u001b[39m0\u001b[39m]))\n",
      "File \u001b[0;32m/usr/lib/python3.11/site-packages/pandas/core/frame.py:3807\u001b[0m, in \u001b[0;36mDataFrame.__getitem__\u001b[0;34m(self, key)\u001b[0m\n\u001b[1;32m   3805\u001b[0m \u001b[39mif\u001b[39;00m \u001b[39mself\u001b[39m\u001b[39m.\u001b[39mcolumns\u001b[39m.\u001b[39mnlevels \u001b[39m>\u001b[39m \u001b[39m1\u001b[39m:\n\u001b[1;32m   3806\u001b[0m     \u001b[39mreturn\u001b[39;00m \u001b[39mself\u001b[39m\u001b[39m.\u001b[39m_getitem_multilevel(key)\n\u001b[0;32m-> 3807\u001b[0m indexer \u001b[39m=\u001b[39m \u001b[39mself\u001b[39;49m\u001b[39m.\u001b[39;49mcolumns\u001b[39m.\u001b[39;49mget_loc(key)\n\u001b[1;32m   3808\u001b[0m \u001b[39mif\u001b[39;00m is_integer(indexer):\n\u001b[1;32m   3809\u001b[0m     indexer \u001b[39m=\u001b[39m [indexer]\n",
      "File \u001b[0;32m/usr/lib/python3.11/site-packages/pandas/core/indexes/base.py:3804\u001b[0m, in \u001b[0;36mIndex.get_loc\u001b[0;34m(self, key, method, tolerance)\u001b[0m\n\u001b[1;32m   3802\u001b[0m     \u001b[39mreturn\u001b[39;00m \u001b[39mself\u001b[39m\u001b[39m.\u001b[39m_engine\u001b[39m.\u001b[39mget_loc(casted_key)\n\u001b[1;32m   3803\u001b[0m \u001b[39mexcept\u001b[39;00m \u001b[39mKeyError\u001b[39;00m \u001b[39mas\u001b[39;00m err:\n\u001b[0;32m-> 3804\u001b[0m     \u001b[39mraise\u001b[39;00m \u001b[39mKeyError\u001b[39;00m(key) \u001b[39mfrom\u001b[39;00m \u001b[39merr\u001b[39;00m\n\u001b[1;32m   3805\u001b[0m \u001b[39mexcept\u001b[39;00m \u001b[39mTypeError\u001b[39;00m:\n\u001b[1;32m   3806\u001b[0m     \u001b[39m# If we have a listlike key, _check_indexing_error will raise\u001b[39;00m\n\u001b[1;32m   3807\u001b[0m     \u001b[39m#  InvalidIndexError. Otherwise we fall through and re-raise\u001b[39;00m\n\u001b[1;32m   3808\u001b[0m     \u001b[39m#  the TypeError.\u001b[39;00m\n\u001b[1;32m   3809\u001b[0m     \u001b[39mself\u001b[39m\u001b[39m.\u001b[39m_check_indexing_error(key)\n",
      "\u001b[0;31mKeyError\u001b[0m: 'Species'"
     ]
    }
   ],
   "source": [
    "# Assuming you have a library to download Palmer Penguins data in Python, \n",
    "# this is just a placeholder to demonstrate.\n",
    "\n",
    "# Replace the below lines with valid Python code to fetch and inspect the Palmer Penguins data\n",
    "# You might want to use the seaborn library which has the penguins dataset\n",
    "\n",
    "import seaborn as sns\n",
    "\n",
    "penguins = sns.load_dataset('penguins')\n",
    "\n",
    "# Check names of the columns\n",
    "print(penguins.columns)\n",
    "\n",
    "# Figure out data classes\n",
    "print(type(penguins['Species'][0]))\n",
    "print(type(penguens['bill_length_mm'][0]))\n",
    "print(type(penguins['body_wight_g'][0]))"
   ]
  }
 ],
 "metadata": {
  "kernelspec": {
   "display_name": "Python 3",
   "language": "python",
   "name": "python3"
  },
  "language_info": {
   "codemirror_mode": {
    "name": "ipython",
    "version": 3
   },
   "file_extension": ".py",
   "mimetype": "text/x-python",
   "name": "python",
   "nbconvert_exporter": "python",
   "pygments_lexer": "ipython3",
   "version": "3.11.3"
  },
  "orig_nbformat": 4
 },
 "nbformat": 4,
 "nbformat_minor": 2
}
